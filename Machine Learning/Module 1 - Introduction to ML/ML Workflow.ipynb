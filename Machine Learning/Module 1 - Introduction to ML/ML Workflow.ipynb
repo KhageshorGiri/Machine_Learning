{
 "cells": [
  {
   "cell_type": "markdown",
   "metadata": {
    "id": "XXABBMq8wdlR"
   },
   "source": [
    "# ML Workflow\n",
    "\n",
    "## Learning Objectives:\n",
    "\n",
    "Students should be able to\n",
    "\n",
    "- Describe the general workflow for common machine learning problems.\n",
    "\n",
    "- Understand and apply common data exploration and data preparation methods.\n",
    "\n"
   ]
  },
  {
   "cell_type": "markdown",
   "metadata": {
    "id": "ryFlShDbuDXk"
   },
   "source": [
    "\n",
    "##  What is CRISP-DM?\n",
    "\n",
    "CRISP-DM, Cross-Industry Standard Process for Data Mining is an open standard process model that describes common approaches used by data mining experts. CRISP-DM was conceived in late 1996.Now, prime corporation that uses the CRISP-DM process model is IBM.\n",
    "\n",
    "\n",
    "Basically, in layman terms, CRIP-DM is a set of rules or guidelines that help to plan, organize, and execute any data mining, data analysis or machine learning project.\n",
    "\n",
    "Different stages of CRISP-DM methodology are:\n",
    "\n",
    "1. Business Understanding\n",
    "\n",
    "2. Data Understanding\n",
    "\n",
    "3. Data Preparation\n",
    "\n",
    "4. Modeling\n",
    "\n",
    "5. Evaluation\n",
    "\n",
    "6. Deployment\n",
    "\n",
    "Let's see the flow of CRISP-DM from the diagram below.\n",
    "<center>\n",
    "\n",
    "<img src =\"https://drive.google.com/uc?id=1lbiiZEamP3Aq1kHvzsqfIe-OWT2EyPyF\" width = \"450\" height =\"350\">\n",
    "\n",
    "\n",
    "Fig: CRISP-DM Process flow \n",
    "</center>\n",
    "\n",
    "\n",
    "\n",
    "**Why CRISP-DM?**\n",
    "\n",
    "We know that _a problem well defined is a problem half solved._\n",
    "\n",
    "So, even if you have mastered algorithms, or fluent in different statistical techniques, or have no issues with computing on massive datasets, or can easily write worthy production code, but you may sometimes fall victim of something as mundane as lack of organization, especially while working on huge projects.\n",
    "\n",
    "Let's say, in the model evaluation phase you get to know that the main information or feature is missing in the data which is not letting the model to perform its best. Or how is it if the deployed model is under-performing in live settings despite doing well in training, testing set and validation set?\n",
    "\n",
    "So,these issues can be identified early or even entirely avoided by following a data analysis process called CRISP-DM.\n",
    "\n",
    "CRISP-DM makes thing simpler and ensures that we do the right things at the right time. \n",
    "\n",
    "\n"
   ]
  },
  {
   "cell_type": "markdown",
   "metadata": {
    "id": "YcwIen7n63SC"
   },
   "source": [
    "## Business Understanding\n",
    "\n",
    "This is the first stage where we need to understand what we want to accomplish from a business perspective. \n",
    "\n",
    "In this phase we\n",
    "\n",
    "- define problems and objectives. \n",
    "\n",
    "- understand the purpose of analysis and provide a concise definition of the problem.\n",
    "\n",
    "- assess the situation, available resources, requirements.\n",
    "\n",
    "- formulate success criteria.\n"
   ]
  },
  {
   "cell_type": "markdown",
   "metadata": {
    "id": "zVstUwDl8wsa"
   },
   "source": [
    "## Data Understanding\n",
    "\n",
    "This is the second stage where we acquire the data listed in the project resources.\n",
    "\n",
    "This phase is primarily divided into the following sub-steps:\n",
    "\n",
    "- Data Acquisition: Gathering data\n",
    "\n",
    "  - Plain text files, delimited files, JSON files\n",
    "\n",
    "  - Databases (Relational or NOSQL)\n",
    "\n",
    "  - Web Scraping and APIs\n",
    "\n",
    "  - URLs, Streaming data\n",
    "\n",
    "\n",
    "- Data Exploration with verification of its quality\n",
    "\n",
    "  - Quick Summary of data\n",
    "\n",
    "  - Attribute Information\n",
    "\n",
    "  - Descriptive Statistics\n",
    "\n",
    "  - Histogram, bar plots\n",
    "\n",
    "  - Correlation Matrix\n",
    "  \n",
    "  - Data Quality(DQ) Verification\n",
    "\n",
    "\n",
    "You should develop the habit of creating a simple document with at least a description of the ideal data needed to test a hypothesis. This will help you:\n",
    "\n",
    "- Streamline the modeling process.\n",
    "- Ensure that all the future data come in an improved form.\n",
    "\n",
    "\n",
    "\n",
    "Data needs to be there to start any data science project or data analysis project. The diagram below represents the common methods of gathering or collecting data.\n",
    "\n",
    "<center>\n",
    "\n",
    "<img src =\"https://drive.google.com/uc?id=17jioytoOTpA7UG43ZDMxEbozffuRxaOs\" width = \"650\" height =\"450\">\n",
    "\n",
    "Fig: Different ways of Data collection.\n",
    "</center>\n",
    "\n",
    "There are different sites in internet such as: _Kaggle_ and _UCI Machine learning Repository_ , from where we can collect the data for machine learning projects.\n",
    "\n",
    "\n"
   ]
  },
  {
   "cell_type": "markdown",
   "metadata": {
    "id": "PtrcWRhyeJSz"
   },
   "source": [
    "**Structured and Unstructured Data**\n",
    "\n",
    "Datasets that we use in Machine Learning projects are either structured or unstructured.\n",
    "\n",
    "Structured data, most often categorized as quantitative data is highly-organized and well formatted. Due to this structured behaviour, it is easily searchable in relational databases.Some of the well known examples include names, dates, addresses, credit card numbers, stock information, and more.\n",
    "\n",
    "Unstructured data, most often categorized as qualitative data has no pre-defined structure or organization. This unstructured behaviour makes it difficult to collect, process, and analyze. Some of the well known examples include text, video, audio, mobile activity, social media activity, satellite imagery etc.\n",
    "\n",
    "\n",
    "In this reading material, we will learn some steps of CRISP-DM. Let's start with data collection. \n",
    "Here, we load a structured dataset which is in delimited format, _csv(comma separated file)_ through URL.\n"
   ]
  },
  {
   "cell_type": "markdown",
   "metadata": {
    "id": "qde4An8vni7M"
   },
   "source": [
    "## Data Acquisition: Gathering data\n",
    "\n",
    "**Student Performance Data Set**\n",
    "\n",
    "*Source:* https://archive.ics.uci.edu/ml/datasets/Student+Performance \\\n",
    "*Author:* Paulo Cortez, University of Minho, Guimarães, Portugal, http://www3.dsi.uminho.pt/pcortez\n",
    "\n",
    "This data approach student achievement in secondary education of two Portuguese schools. The data attributes include student grades, demographic, social and school related features and it was collected by using school reports and questionnaires. Two datasets are provided regarding the performance in two distinct subjects: Mathematics (mat) and Portuguese language (por). In [Cortez and Silva, 2008](http://www3.dsi.uminho.pt/pcortez/student.pdf), the two datasets were modeled under binary/five-level classification and regression tasks.  But here we are only using it as a regression task.\n",
    "\n",
    "**Number of Instances:** 395 \\\n",
    "**Number of Attributes:** 32 **Input Features** + 1 **Target**('G3')\n"
   ]
  },
  {
   "cell_type": "code",
   "execution_count": 1,
   "metadata": {
    "colab": {
     "base_uri": "https://localhost:8080/",
     "height": 217
    },
    "executionInfo": {
     "elapsed": 2238,
     "status": "ok",
     "timestamp": 1620023181945,
     "user": {
      "displayName": "Jasmin Karki",
      "photoUrl": "https://lh3.googleusercontent.com/a-/AOh14Ghg3nFw3n9oncuMCv-Ekq2P2jY9FtYee9B2a_5I=s64",
      "userId": "13981372361842258837"
     },
     "user_tz": -345
    },
    "id": "08mJtB_keniJ",
    "outputId": "fc81997c-646c-4bef-fa82-c0e18b88dedd"
   },
   "outputs": [
    {
     "data": {
      "text/html": [
       "<div>\n",
       "<style scoped>\n",
       "    .dataframe tbody tr th:only-of-type {\n",
       "        vertical-align: middle;\n",
       "    }\n",
       "\n",
       "    .dataframe tbody tr th {\n",
       "        vertical-align: top;\n",
       "    }\n",
       "\n",
       "    .dataframe thead th {\n",
       "        text-align: right;\n",
       "    }\n",
       "</style>\n",
       "<table border=\"1\" class=\"dataframe\">\n",
       "  <thead>\n",
       "    <tr style=\"text-align: right;\">\n",
       "      <th></th>\n",
       "      <th>school</th>\n",
       "      <th>sex</th>\n",
       "      <th>age</th>\n",
       "      <th>address</th>\n",
       "      <th>famsize</th>\n",
       "      <th>Pstatus</th>\n",
       "      <th>Medu</th>\n",
       "      <th>Fedu</th>\n",
       "      <th>Mjob</th>\n",
       "      <th>Fjob</th>\n",
       "      <th>reason</th>\n",
       "      <th>guardian</th>\n",
       "      <th>traveltime</th>\n",
       "      <th>studytime</th>\n",
       "      <th>failures</th>\n",
       "      <th>schoolsup</th>\n",
       "      <th>famsup</th>\n",
       "      <th>paid</th>\n",
       "      <th>activities</th>\n",
       "      <th>nursery</th>\n",
       "      <th>higher</th>\n",
       "      <th>internet</th>\n",
       "      <th>romantic</th>\n",
       "      <th>famrel</th>\n",
       "      <th>freetime</th>\n",
       "      <th>goout</th>\n",
       "      <th>Dalc</th>\n",
       "      <th>Walc</th>\n",
       "      <th>health</th>\n",
       "      <th>absences</th>\n",
       "      <th>G1</th>\n",
       "      <th>G2</th>\n",
       "      <th>G3</th>\n",
       "    </tr>\n",
       "  </thead>\n",
       "  <tbody>\n",
       "    <tr>\n",
       "      <th>0</th>\n",
       "      <td>GP</td>\n",
       "      <td>F</td>\n",
       "      <td>18</td>\n",
       "      <td>U</td>\n",
       "      <td>GT3</td>\n",
       "      <td>A</td>\n",
       "      <td>4</td>\n",
       "      <td>4</td>\n",
       "      <td>at_home</td>\n",
       "      <td>teacher</td>\n",
       "      <td>course</td>\n",
       "      <td>mother</td>\n",
       "      <td>2</td>\n",
       "      <td>2</td>\n",
       "      <td>0</td>\n",
       "      <td>yes</td>\n",
       "      <td>no</td>\n",
       "      <td>no</td>\n",
       "      <td>no</td>\n",
       "      <td>yes</td>\n",
       "      <td>yes</td>\n",
       "      <td>no</td>\n",
       "      <td>no</td>\n",
       "      <td>4</td>\n",
       "      <td>3</td>\n",
       "      <td>4</td>\n",
       "      <td>1</td>\n",
       "      <td>1</td>\n",
       "      <td>3</td>\n",
       "      <td>6</td>\n",
       "      <td>5</td>\n",
       "      <td>6</td>\n",
       "      <td>6</td>\n",
       "    </tr>\n",
       "    <tr>\n",
       "      <th>1</th>\n",
       "      <td>GP</td>\n",
       "      <td>F</td>\n",
       "      <td>17</td>\n",
       "      <td>U</td>\n",
       "      <td>GT3</td>\n",
       "      <td>T</td>\n",
       "      <td>1</td>\n",
       "      <td>1</td>\n",
       "      <td>at_home</td>\n",
       "      <td>other</td>\n",
       "      <td>course</td>\n",
       "      <td>father</td>\n",
       "      <td>1</td>\n",
       "      <td>2</td>\n",
       "      <td>0</td>\n",
       "      <td>no</td>\n",
       "      <td>yes</td>\n",
       "      <td>no</td>\n",
       "      <td>no</td>\n",
       "      <td>no</td>\n",
       "      <td>yes</td>\n",
       "      <td>yes</td>\n",
       "      <td>no</td>\n",
       "      <td>5</td>\n",
       "      <td>3</td>\n",
       "      <td>3</td>\n",
       "      <td>1</td>\n",
       "      <td>1</td>\n",
       "      <td>3</td>\n",
       "      <td>4</td>\n",
       "      <td>5</td>\n",
       "      <td>5</td>\n",
       "      <td>6</td>\n",
       "    </tr>\n",
       "    <tr>\n",
       "      <th>2</th>\n",
       "      <td>GP</td>\n",
       "      <td>F</td>\n",
       "      <td>15</td>\n",
       "      <td>U</td>\n",
       "      <td>LE3</td>\n",
       "      <td>T</td>\n",
       "      <td>1</td>\n",
       "      <td>1</td>\n",
       "      <td>at_home</td>\n",
       "      <td>other</td>\n",
       "      <td>other</td>\n",
       "      <td>mother</td>\n",
       "      <td>1</td>\n",
       "      <td>2</td>\n",
       "      <td>3</td>\n",
       "      <td>yes</td>\n",
       "      <td>no</td>\n",
       "      <td>yes</td>\n",
       "      <td>no</td>\n",
       "      <td>yes</td>\n",
       "      <td>yes</td>\n",
       "      <td>yes</td>\n",
       "      <td>no</td>\n",
       "      <td>4</td>\n",
       "      <td>3</td>\n",
       "      <td>2</td>\n",
       "      <td>2</td>\n",
       "      <td>3</td>\n",
       "      <td>3</td>\n",
       "      <td>10</td>\n",
       "      <td>7</td>\n",
       "      <td>8</td>\n",
       "      <td>10</td>\n",
       "    </tr>\n",
       "    <tr>\n",
       "      <th>3</th>\n",
       "      <td>GP</td>\n",
       "      <td>F</td>\n",
       "      <td>15</td>\n",
       "      <td>U</td>\n",
       "      <td>GT3</td>\n",
       "      <td>T</td>\n",
       "      <td>4</td>\n",
       "      <td>2</td>\n",
       "      <td>health</td>\n",
       "      <td>services</td>\n",
       "      <td>home</td>\n",
       "      <td>mother</td>\n",
       "      <td>1</td>\n",
       "      <td>3</td>\n",
       "      <td>0</td>\n",
       "      <td>no</td>\n",
       "      <td>yes</td>\n",
       "      <td>yes</td>\n",
       "      <td>yes</td>\n",
       "      <td>yes</td>\n",
       "      <td>yes</td>\n",
       "      <td>yes</td>\n",
       "      <td>yes</td>\n",
       "      <td>3</td>\n",
       "      <td>2</td>\n",
       "      <td>2</td>\n",
       "      <td>1</td>\n",
       "      <td>1</td>\n",
       "      <td>5</td>\n",
       "      <td>2</td>\n",
       "      <td>15</td>\n",
       "      <td>14</td>\n",
       "      <td>15</td>\n",
       "    </tr>\n",
       "    <tr>\n",
       "      <th>4</th>\n",
       "      <td>GP</td>\n",
       "      <td>F</td>\n",
       "      <td>16</td>\n",
       "      <td>U</td>\n",
       "      <td>GT3</td>\n",
       "      <td>T</td>\n",
       "      <td>3</td>\n",
       "      <td>3</td>\n",
       "      <td>other</td>\n",
       "      <td>other</td>\n",
       "      <td>home</td>\n",
       "      <td>father</td>\n",
       "      <td>1</td>\n",
       "      <td>2</td>\n",
       "      <td>0</td>\n",
       "      <td>no</td>\n",
       "      <td>yes</td>\n",
       "      <td>yes</td>\n",
       "      <td>no</td>\n",
       "      <td>yes</td>\n",
       "      <td>yes</td>\n",
       "      <td>no</td>\n",
       "      <td>no</td>\n",
       "      <td>4</td>\n",
       "      <td>3</td>\n",
       "      <td>2</td>\n",
       "      <td>1</td>\n",
       "      <td>2</td>\n",
       "      <td>5</td>\n",
       "      <td>4</td>\n",
       "      <td>6</td>\n",
       "      <td>10</td>\n",
       "      <td>10</td>\n",
       "    </tr>\n",
       "  </tbody>\n",
       "</table>\n",
       "</div>"
      ],
      "text/plain": [
       "  school sex  age address famsize Pstatus  ...  Walc  health absences  G1  G2  G3\n",
       "0     GP   F   18       U     GT3       A  ...     1       3        6   5   6   6\n",
       "1     GP   F   17       U     GT3       T  ...     1       3        4   5   5   6\n",
       "2     GP   F   15       U     LE3       T  ...     3       3       10   7   8  10\n",
       "3     GP   F   15       U     GT3       T  ...     1       5        2  15  14  15\n",
       "4     GP   F   16       U     GT3       T  ...     2       5        4   6  10  10\n",
       "\n",
       "[5 rows x 33 columns]"
      ]
     },
     "execution_count": 1,
     "metadata": {
      "tags": []
     },
     "output_type": "execute_result"
    }
   ],
   "source": [
    "import numpy as np\n",
    "import pandas as pd\n",
    "import matplotlib as mpl\n",
    "\n",
    "DATASET_URL = \"https://storage.googleapis.com/codehub-data/1-lv1-1-student-mat.csv\" \n",
    "\n",
    "df = pd.read_csv(DATASET_URL, sep=';')\n",
    "df.head()"
   ]
  },
  {
   "cell_type": "markdown",
   "metadata": {
    "id": "CS_hLfR5fFQC"
   },
   "source": [
    "This is the data that we collected to measure the performance of the students of a particular institution.\n",
    "\n",
    "Now, let's proceed to Exploratory data analysis.\n"
   ]
  },
  {
   "cell_type": "markdown",
   "metadata": {
    "id": "7LPQBic8n3BH"
   },
   "source": [
    "## Exploratory Data Analysis\n",
    "\n",
    "Exploratory Data Analysis(EDA) is a technique to analyse dataset to summarise their main characteristics, often with visual methods. \n"
   ]
  },
  {
   "cell_type": "markdown",
   "metadata": {
    "id": "KnsSUDo5fxXA"
   },
   "source": [
    "### Quick Summary of data\n",
    "\n",
    "Finding Quick summary of the data is often the first step of EDA. It inclues finding attribute information along with index and column data types. We also see non null values, memory usage, and presence of categorical and numerical features. \n",
    "\n",
    "Let's have a quick summary of Student Performance dataset.\n",
    "\n"
   ]
  },
  {
   "cell_type": "markdown",
   "metadata": {
    "id": "1udemMcdwarp"
   },
   "source": [
    "\n",
    " Attribute Information:\n",
    "\n",
    "Attributes for _Student Performance Dataset_ provided are:\n",
    "\n",
    "1. school - student's school (binary: 'GP' - Gabriel Pereira or 'MS' - Mousinho da Silveira)\n",
    "\n",
    "2. sex - student's sex (binary: 'F' - female or 'M' - male)\n",
    "\n",
    "3. age - student's age (numeric: from 15 to 22)\n",
    "\n",
    "4. address - student's home address type (binary: 'U' - urban or 'R' - rural)\n",
    "\n",
    "5. famsize - family size (binary: 'LE3' - less or equal to 3 or 'GT3' - greater than 3)\n",
    "\n",
    "6. Pstatus - parent's cohabitation status (binary: 'T' - living together or 'A' - apart)\n",
    "\n",
    "7. Medu - mother's education (numeric: 0 - none, 1 - primary education (4th grade), 2 - 5th to 9th grade, 3 - secondary education or 4 - higher education)\n",
    "\n",
    "8. Fedu - father's education (numeric: 0 - none, 1 - primary education (4th grade), 2 - 5th to 9th grade, 3 - secondary education or 4 - higher education)\n",
    "\n",
    "9. Mjob - mother's job (nominal: 'teacher', 'health' care related, civil 'services' (e.g. administrative or police), 'at_home' or 'other')\n",
    "\n",
    "10. Fjob - father's job (nominal: 'teacher', 'health' care related, civil 'services' (e.g. administrative or police), 'at_home' or 'other')\n",
    "\n",
    "11. reason - reason to choose this school (nominal: close to 'home', school 'reputation', 'course' preference or 'other')\n",
    "\n",
    "12. guardian - student's guardian (nominal: 'mother', 'father' or 'other')\n",
    "13. traveltime - home to school travel time (numeric: 1 - <\n",
    "15 min., 2 - 15 to 30 min., 3 - 30 min. to 1 hour, or 4 - >1 hour)\n",
    "\n",
    "14. studytime - weekly study time (numeric: 1 - < 2 hours, 2 - 2 to 5 hours, 3 - 5 to 10 hours, or 4 - >10 hours)\n",
    "\n",
    "15. failures - number of past class failures (numeric: n if 1<=n< 3, else 4)\n",
    "\n",
    "16. schoolsup - extra educational support (binary: yes or no)\n",
    "\n",
    "17. famsup - family educational support (binary: yes or no)\n",
    "\n",
    "18. paid - extra paid classes within the course subject (Math or Portuguese) (binary: yes or no)\n",
    "\n",
    "19. activities - extra-curricular activities (binary: yes or no)\n",
    "\n",
    "20. nursery - attended nursery school (binary: yes or no)\n",
    "\n",
    "21. higher - wants to take higher education (binary: yes or no)\n",
    "\n",
    "22. internet - Internet access at home (binary: yes or no)\n",
    "\n",
    "23. romantic - with a romantic relationship (binary: yes or no)\n",
    "\n",
    "24. famrel - quality of family relationships (numeric: from 1 - very bad to 5 - excellent)\n",
    "\n",
    "25. freetime - free time after school (numeric: from 1 - very low to 5 - very high)\n",
    "\n",
    "26. goout - going out with friends (numeric: from 1 - very low to 5 - very high)\n",
    "\n",
    "27. Dalc - workday alcohol consumption (numeric: from 1 - very low to 5 - very high)\n",
    "\n",
    "28. Walc - weekend alcohol consumption (numeric: from 1 - very low to 5 - very high)\n",
    "\n",
    "29. health - current health status (numeric: from 1 - very bad to 5 - very good)\n",
    "\n",
    "30. absences - number of school absences (numeric: from 0 to 93)\n",
    "\n",
    "These grades are related with the course subject, Math or Portuguese:\n",
    "\n",
    "31. G1 - first period grade (numeric: from 0 to 20)\n",
    "\n",
    "31. G2 - second period grade (numeric: from 0 to 20)\n",
    "\n",
    "33. **G3 - final grade (numeric: from 0 to 20, output target)**\n"
   ]
  },
  {
   "cell_type": "markdown",
   "metadata": {
    "id": "cp9dyNGz6X7t"
   },
   "source": [
    "Now, we will see the number of categorical features and numerical features in the data frame _df_. Before this let's have a quick recall on types of data and measurement scale.\n",
    "\n",
    "- Nominal Scale\n",
    "\n",
    "  It is the scale used for labeling variables into distinct classifications and doesn’t involve a quantitative value or order.\n",
    "  For example, the answers to the question, *Which is your native country?*\n",
    "\n",
    "- Ordinal Scale\n",
    "  \n",
    "  It is the scale used to simply depict the order of variables and not the difference between each of the variables. For example, the numerical answers to the questions, *How satisfied are you with the work? Please rate it on 1 to 5, 1 being the lowest.*\n",
    "\n",
    "- Interval Scale\n",
    "\n",
    "  It is the scale where the order of the variables is known as well as the difference between these variables. \n",
    "  \n",
    "- Ratio Scale\n",
    "\n",
    "  It is the scale that not only produces the order of variables but also makes the difference between variables known along with information on the value of true zero. \n",
    "\n",
    "\n"
   ]
  },
  {
   "cell_type": "code",
   "execution_count": 2,
   "metadata": {
    "colab": {
     "base_uri": "https://localhost:8080/"
    },
    "executionInfo": {
     "elapsed": 2897,
     "status": "ok",
     "timestamp": 1620023182621,
     "user": {
      "displayName": "Jasmin Karki",
      "photoUrl": "https://lh3.googleusercontent.com/a-/AOh14Ghg3nFw3n9oncuMCv-Ekq2P2jY9FtYee9B2a_5I=s64",
      "userId": "13981372361842258837"
     },
     "user_tz": -345
    },
    "id": "gmyjrUpxf1bI",
    "outputId": "59155f62-6bf3-4315-95b2-0d5347adc897"
   },
   "outputs": [
    {
     "name": "stdout",
     "output_type": "stream",
     "text": [
      "<class 'pandas.core.frame.DataFrame'>\n",
      "RangeIndex: 395 entries, 0 to 394\n",
      "Data columns (total 33 columns):\n",
      " #   Column      Non-Null Count  Dtype \n",
      "---  ------      --------------  ----- \n",
      " 0   school      395 non-null    object\n",
      " 1   sex         395 non-null    object\n",
      " 2   age         395 non-null    int64 \n",
      " 3   address     395 non-null    object\n",
      " 4   famsize     395 non-null    object\n",
      " 5   Pstatus     395 non-null    object\n",
      " 6   Medu        395 non-null    int64 \n",
      " 7   Fedu        395 non-null    int64 \n",
      " 8   Mjob        395 non-null    object\n",
      " 9   Fjob        395 non-null    object\n",
      " 10  reason      395 non-null    object\n",
      " 11  guardian    395 non-null    object\n",
      " 12  traveltime  395 non-null    int64 \n",
      " 13  studytime   395 non-null    int64 \n",
      " 14  failures    395 non-null    int64 \n",
      " 15  schoolsup   395 non-null    object\n",
      " 16  famsup      395 non-null    object\n",
      " 17  paid        395 non-null    object\n",
      " 18  activities  395 non-null    object\n",
      " 19  nursery     395 non-null    object\n",
      " 20  higher      395 non-null    object\n",
      " 21  internet    395 non-null    object\n",
      " 22  romantic    395 non-null    object\n",
      " 23  famrel      395 non-null    int64 \n",
      " 24  freetime    395 non-null    int64 \n",
      " 25  goout       395 non-null    int64 \n",
      " 26  Dalc        395 non-null    int64 \n",
      " 27  Walc        395 non-null    int64 \n",
      " 28  health      395 non-null    int64 \n",
      " 29  absences    395 non-null    int64 \n",
      " 30  G1          395 non-null    int64 \n",
      " 31  G2          395 non-null    int64 \n",
      " 32  G3          395 non-null    int64 \n",
      "dtypes: int64(16), object(17)\n",
      "memory usage: 102.0+ KB\n"
     ]
    }
   ],
   "source": [
    "df.info()"
   ]
  },
  {
   "cell_type": "code",
   "execution_count": 3,
   "metadata": {
    "colab": {
     "base_uri": "https://localhost:8080/"
    },
    "executionInfo": {
     "elapsed": 2890,
     "status": "ok",
     "timestamp": 1620023182624,
     "user": {
      "displayName": "Jasmin Karki",
      "photoUrl": "https://lh3.googleusercontent.com/a-/AOh14Ghg3nFw3n9oncuMCv-Ekq2P2jY9FtYee9B2a_5I=s64",
      "userId": "13981372361842258837"
     },
     "user_tz": -345
    },
    "id": "pvaBV3Vv6hdv",
    "outputId": "10c63a85-f3e0-46f6-a475-b61e084f56e5"
   },
   "outputs": [
    {
     "name": "stdout",
     "output_type": "stream",
     "text": [
      "Categorical Features:   17\n",
      "Numerical Features: 16\n"
     ]
    }
   ],
   "source": [
    "print(f'Categorical Features:   {len([_d for _d in df.columns if df[_d].dtype == object])}')\n",
    "print(f'Numerical Features: {len([_d for _d in df.columns if df[_d].dtype == int])}')"
   ]
  },
  {
   "cell_type": "markdown",
   "metadata": {
    "id": "yceghZDQ7T2A"
   },
   "source": [
    "We can see that there are total 33 features in the dataset out of which, 17 are categorical and rest others are numerical.\n"
   ]
  },
  {
   "cell_type": "markdown",
   "metadata": {
    "id": "mRolTSYRgZab"
   },
   "source": [
    "### Descriptive statistics of data\n",
    "\n",
    "Descriptive statistics are broken down into measures of central tendency and measures of variability (spread) of the data.\n",
    "\n"
   ]
  },
  {
   "cell_type": "code",
   "execution_count": 4,
   "metadata": {
    "colab": {
     "base_uri": "https://localhost:8080/",
     "height": 307
    },
    "executionInfo": {
     "elapsed": 2884,
     "status": "ok",
     "timestamp": 1620023182629,
     "user": {
      "displayName": "Jasmin Karki",
      "photoUrl": "https://lh3.googleusercontent.com/a-/AOh14Ghg3nFw3n9oncuMCv-Ekq2P2jY9FtYee9B2a_5I=s64",
      "userId": "13981372361842258837"
     },
     "user_tz": -345
    },
    "id": "uEP7b_3cgwrn",
    "outputId": "39800214-5fb8-4770-99ee-fde8f88069bd"
   },
   "outputs": [
    {
     "data": {
      "text/html": [
       "<div>\n",
       "<style scoped>\n",
       "    .dataframe tbody tr th:only-of-type {\n",
       "        vertical-align: middle;\n",
       "    }\n",
       "\n",
       "    .dataframe tbody tr th {\n",
       "        vertical-align: top;\n",
       "    }\n",
       "\n",
       "    .dataframe thead th {\n",
       "        text-align: right;\n",
       "    }\n",
       "</style>\n",
       "<table border=\"1\" class=\"dataframe\">\n",
       "  <thead>\n",
       "    <tr style=\"text-align: right;\">\n",
       "      <th></th>\n",
       "      <th>age</th>\n",
       "      <th>Medu</th>\n",
       "      <th>Fedu</th>\n",
       "      <th>traveltime</th>\n",
       "      <th>studytime</th>\n",
       "      <th>failures</th>\n",
       "      <th>famrel</th>\n",
       "      <th>freetime</th>\n",
       "      <th>goout</th>\n",
       "      <th>Dalc</th>\n",
       "      <th>Walc</th>\n",
       "      <th>health</th>\n",
       "      <th>absences</th>\n",
       "      <th>G1</th>\n",
       "      <th>G2</th>\n",
       "      <th>G3</th>\n",
       "    </tr>\n",
       "  </thead>\n",
       "  <tbody>\n",
       "    <tr>\n",
       "      <th>count</th>\n",
       "      <td>395.000000</td>\n",
       "      <td>395.000000</td>\n",
       "      <td>395.000000</td>\n",
       "      <td>395.000000</td>\n",
       "      <td>395.000000</td>\n",
       "      <td>395.000000</td>\n",
       "      <td>395.000000</td>\n",
       "      <td>395.000000</td>\n",
       "      <td>395.000000</td>\n",
       "      <td>395.000000</td>\n",
       "      <td>395.000000</td>\n",
       "      <td>395.000000</td>\n",
       "      <td>395.000000</td>\n",
       "      <td>395.000000</td>\n",
       "      <td>395.000000</td>\n",
       "      <td>395.000000</td>\n",
       "    </tr>\n",
       "    <tr>\n",
       "      <th>mean</th>\n",
       "      <td>16.696203</td>\n",
       "      <td>2.749367</td>\n",
       "      <td>2.521519</td>\n",
       "      <td>1.448101</td>\n",
       "      <td>2.035443</td>\n",
       "      <td>0.334177</td>\n",
       "      <td>3.944304</td>\n",
       "      <td>3.235443</td>\n",
       "      <td>3.108861</td>\n",
       "      <td>1.481013</td>\n",
       "      <td>2.291139</td>\n",
       "      <td>3.554430</td>\n",
       "      <td>5.708861</td>\n",
       "      <td>10.908861</td>\n",
       "      <td>10.713924</td>\n",
       "      <td>10.415190</td>\n",
       "    </tr>\n",
       "    <tr>\n",
       "      <th>std</th>\n",
       "      <td>1.276043</td>\n",
       "      <td>1.094735</td>\n",
       "      <td>1.088201</td>\n",
       "      <td>0.697505</td>\n",
       "      <td>0.839240</td>\n",
       "      <td>0.743651</td>\n",
       "      <td>0.896659</td>\n",
       "      <td>0.998862</td>\n",
       "      <td>1.113278</td>\n",
       "      <td>0.890741</td>\n",
       "      <td>1.287897</td>\n",
       "      <td>1.390303</td>\n",
       "      <td>8.003096</td>\n",
       "      <td>3.319195</td>\n",
       "      <td>3.761505</td>\n",
       "      <td>4.581443</td>\n",
       "    </tr>\n",
       "    <tr>\n",
       "      <th>min</th>\n",
       "      <td>15.000000</td>\n",
       "      <td>0.000000</td>\n",
       "      <td>0.000000</td>\n",
       "      <td>1.000000</td>\n",
       "      <td>1.000000</td>\n",
       "      <td>0.000000</td>\n",
       "      <td>1.000000</td>\n",
       "      <td>1.000000</td>\n",
       "      <td>1.000000</td>\n",
       "      <td>1.000000</td>\n",
       "      <td>1.000000</td>\n",
       "      <td>1.000000</td>\n",
       "      <td>0.000000</td>\n",
       "      <td>3.000000</td>\n",
       "      <td>0.000000</td>\n",
       "      <td>0.000000</td>\n",
       "    </tr>\n",
       "    <tr>\n",
       "      <th>25%</th>\n",
       "      <td>16.000000</td>\n",
       "      <td>2.000000</td>\n",
       "      <td>2.000000</td>\n",
       "      <td>1.000000</td>\n",
       "      <td>1.000000</td>\n",
       "      <td>0.000000</td>\n",
       "      <td>4.000000</td>\n",
       "      <td>3.000000</td>\n",
       "      <td>2.000000</td>\n",
       "      <td>1.000000</td>\n",
       "      <td>1.000000</td>\n",
       "      <td>3.000000</td>\n",
       "      <td>0.000000</td>\n",
       "      <td>8.000000</td>\n",
       "      <td>9.000000</td>\n",
       "      <td>8.000000</td>\n",
       "    </tr>\n",
       "    <tr>\n",
       "      <th>50%</th>\n",
       "      <td>17.000000</td>\n",
       "      <td>3.000000</td>\n",
       "      <td>2.000000</td>\n",
       "      <td>1.000000</td>\n",
       "      <td>2.000000</td>\n",
       "      <td>0.000000</td>\n",
       "      <td>4.000000</td>\n",
       "      <td>3.000000</td>\n",
       "      <td>3.000000</td>\n",
       "      <td>1.000000</td>\n",
       "      <td>2.000000</td>\n",
       "      <td>4.000000</td>\n",
       "      <td>4.000000</td>\n",
       "      <td>11.000000</td>\n",
       "      <td>11.000000</td>\n",
       "      <td>11.000000</td>\n",
       "    </tr>\n",
       "    <tr>\n",
       "      <th>75%</th>\n",
       "      <td>18.000000</td>\n",
       "      <td>4.000000</td>\n",
       "      <td>3.000000</td>\n",
       "      <td>2.000000</td>\n",
       "      <td>2.000000</td>\n",
       "      <td>0.000000</td>\n",
       "      <td>5.000000</td>\n",
       "      <td>4.000000</td>\n",
       "      <td>4.000000</td>\n",
       "      <td>2.000000</td>\n",
       "      <td>3.000000</td>\n",
       "      <td>5.000000</td>\n",
       "      <td>8.000000</td>\n",
       "      <td>13.000000</td>\n",
       "      <td>13.000000</td>\n",
       "      <td>14.000000</td>\n",
       "    </tr>\n",
       "    <tr>\n",
       "      <th>max</th>\n",
       "      <td>22.000000</td>\n",
       "      <td>4.000000</td>\n",
       "      <td>4.000000</td>\n",
       "      <td>4.000000</td>\n",
       "      <td>4.000000</td>\n",
       "      <td>3.000000</td>\n",
       "      <td>5.000000</td>\n",
       "      <td>5.000000</td>\n",
       "      <td>5.000000</td>\n",
       "      <td>5.000000</td>\n",
       "      <td>5.000000</td>\n",
       "      <td>5.000000</td>\n",
       "      <td>75.000000</td>\n",
       "      <td>19.000000</td>\n",
       "      <td>19.000000</td>\n",
       "      <td>20.000000</td>\n",
       "    </tr>\n",
       "  </tbody>\n",
       "</table>\n",
       "</div>"
      ],
      "text/plain": [
       "              age        Medu        Fedu  ...          G1          G2          G3\n",
       "count  395.000000  395.000000  395.000000  ...  395.000000  395.000000  395.000000\n",
       "mean    16.696203    2.749367    2.521519  ...   10.908861   10.713924   10.415190\n",
       "std      1.276043    1.094735    1.088201  ...    3.319195    3.761505    4.581443\n",
       "min     15.000000    0.000000    0.000000  ...    3.000000    0.000000    0.000000\n",
       "25%     16.000000    2.000000    2.000000  ...    8.000000    9.000000    8.000000\n",
       "50%     17.000000    3.000000    2.000000  ...   11.000000   11.000000   11.000000\n",
       "75%     18.000000    4.000000    3.000000  ...   13.000000   13.000000   14.000000\n",
       "max     22.000000    4.000000    4.000000  ...   19.000000   19.000000   20.000000\n",
       "\n",
       "[8 rows x 16 columns]"
      ]
     },
     "execution_count": 4,
     "metadata": {
      "tags": []
     },
     "output_type": "execute_result"
    }
   ],
   "source": [
    "## For Numerical columns only\n",
    "df.describe(include=[np.number])"
   ]
  },
  {
   "cell_type": "code",
   "execution_count": 5,
   "metadata": {
    "colab": {
     "base_uri": "https://localhost:8080/",
     "height": 187
    },
    "executionInfo": {
     "elapsed": 2875,
     "status": "ok",
     "timestamp": 1620023182632,
     "user": {
      "displayName": "Jasmin Karki",
      "photoUrl": "https://lh3.googleusercontent.com/a-/AOh14Ghg3nFw3n9oncuMCv-Ekq2P2jY9FtYee9B2a_5I=s64",
      "userId": "13981372361842258837"
     },
     "user_tz": -345
    },
    "id": "MTJpCIiGhJgR",
    "outputId": "37dc4ee7-923c-4169-bb18-b39250271e95"
   },
   "outputs": [
    {
     "data": {
      "text/html": [
       "<div>\n",
       "<style scoped>\n",
       "    .dataframe tbody tr th:only-of-type {\n",
       "        vertical-align: middle;\n",
       "    }\n",
       "\n",
       "    .dataframe tbody tr th {\n",
       "        vertical-align: top;\n",
       "    }\n",
       "\n",
       "    .dataframe thead th {\n",
       "        text-align: right;\n",
       "    }\n",
       "</style>\n",
       "<table border=\"1\" class=\"dataframe\">\n",
       "  <thead>\n",
       "    <tr style=\"text-align: right;\">\n",
       "      <th></th>\n",
       "      <th>school</th>\n",
       "      <th>sex</th>\n",
       "      <th>address</th>\n",
       "      <th>famsize</th>\n",
       "      <th>Pstatus</th>\n",
       "      <th>Mjob</th>\n",
       "      <th>Fjob</th>\n",
       "      <th>reason</th>\n",
       "      <th>guardian</th>\n",
       "      <th>schoolsup</th>\n",
       "      <th>famsup</th>\n",
       "      <th>paid</th>\n",
       "      <th>activities</th>\n",
       "      <th>nursery</th>\n",
       "      <th>higher</th>\n",
       "      <th>internet</th>\n",
       "      <th>romantic</th>\n",
       "    </tr>\n",
       "  </thead>\n",
       "  <tbody>\n",
       "    <tr>\n",
       "      <th>count</th>\n",
       "      <td>395</td>\n",
       "      <td>395</td>\n",
       "      <td>395</td>\n",
       "      <td>395</td>\n",
       "      <td>395</td>\n",
       "      <td>395</td>\n",
       "      <td>395</td>\n",
       "      <td>395</td>\n",
       "      <td>395</td>\n",
       "      <td>395</td>\n",
       "      <td>395</td>\n",
       "      <td>395</td>\n",
       "      <td>395</td>\n",
       "      <td>395</td>\n",
       "      <td>395</td>\n",
       "      <td>395</td>\n",
       "      <td>395</td>\n",
       "    </tr>\n",
       "    <tr>\n",
       "      <th>unique</th>\n",
       "      <td>2</td>\n",
       "      <td>2</td>\n",
       "      <td>2</td>\n",
       "      <td>2</td>\n",
       "      <td>2</td>\n",
       "      <td>5</td>\n",
       "      <td>5</td>\n",
       "      <td>4</td>\n",
       "      <td>3</td>\n",
       "      <td>2</td>\n",
       "      <td>2</td>\n",
       "      <td>2</td>\n",
       "      <td>2</td>\n",
       "      <td>2</td>\n",
       "      <td>2</td>\n",
       "      <td>2</td>\n",
       "      <td>2</td>\n",
       "    </tr>\n",
       "    <tr>\n",
       "      <th>top</th>\n",
       "      <td>GP</td>\n",
       "      <td>F</td>\n",
       "      <td>U</td>\n",
       "      <td>GT3</td>\n",
       "      <td>T</td>\n",
       "      <td>other</td>\n",
       "      <td>other</td>\n",
       "      <td>course</td>\n",
       "      <td>mother</td>\n",
       "      <td>no</td>\n",
       "      <td>yes</td>\n",
       "      <td>no</td>\n",
       "      <td>yes</td>\n",
       "      <td>yes</td>\n",
       "      <td>yes</td>\n",
       "      <td>yes</td>\n",
       "      <td>no</td>\n",
       "    </tr>\n",
       "    <tr>\n",
       "      <th>freq</th>\n",
       "      <td>349</td>\n",
       "      <td>208</td>\n",
       "      <td>307</td>\n",
       "      <td>281</td>\n",
       "      <td>354</td>\n",
       "      <td>141</td>\n",
       "      <td>217</td>\n",
       "      <td>145</td>\n",
       "      <td>273</td>\n",
       "      <td>344</td>\n",
       "      <td>242</td>\n",
       "      <td>214</td>\n",
       "      <td>201</td>\n",
       "      <td>314</td>\n",
       "      <td>375</td>\n",
       "      <td>329</td>\n",
       "      <td>263</td>\n",
       "    </tr>\n",
       "  </tbody>\n",
       "</table>\n",
       "</div>"
      ],
      "text/plain": [
       "       school  sex address famsize  ... nursery higher internet romantic\n",
       "count     395  395     395     395  ...     395    395      395      395\n",
       "unique      2    2       2       2  ...       2      2        2        2\n",
       "top        GP    F       U     GT3  ...     yes    yes      yes       no\n",
       "freq      349  208     307     281  ...     314    375      329      263\n",
       "\n",
       "[4 rows x 17 columns]"
      ]
     },
     "execution_count": 5,
     "metadata": {
      "tags": []
     },
     "output_type": "execute_result"
    }
   ],
   "source": [
    "## For string/Object type (Categorical) columns only\n",
    "df.describe(include=['O'])"
   ]
  },
  {
   "cell_type": "markdown",
   "metadata": {
    "id": "jI9cl-TyhWED"
   },
   "source": [
    "### Plot Histograms\n",
    "Histograms allow you to bucket the values into bins, or fixed value ranges, and count how many values fall in that bin.\n"
   ]
  },
  {
   "cell_type": "code",
   "execution_count": 6,
   "metadata": {
    "colab": {
     "base_uri": "https://localhost:8080/",
     "height": 771
    },
    "executionInfo": {
     "elapsed": 5447,
     "status": "ok",
     "timestamp": 1620023185219,
     "user": {
      "displayName": "Jasmin Karki",
      "photoUrl": "https://lh3.googleusercontent.com/a-/AOh14Ghg3nFw3n9oncuMCv-Ekq2P2jY9FtYee9B2a_5I=s64",
      "userId": "13981372361842258837"
     },
     "user_tz": -345
    },
    "id": "BaLHEIv6hZly",
    "outputId": "ed044793-2ea9-4715-f14b-c250937beb87"
   },
   "outputs": [
    {
     "name": "stderr",
     "output_type": "stream",
     "text": [
      "/usr/local/lib/python3.7/dist-packages/ipykernel_launcher.py:5: UserWarning: To output multiple subplots, the figure containing the passed axes is being cleared\n",
      "  \"\"\"\n"
     ]
    },
    {
     "data": {
      "image/png": "[encoded data removed]",
      "text/plain": [
       "<Figure size 1080x864 with 16 Axes>"
      ]
     },
     "metadata": {
      "needs_background": "light",
      "tags": []
     },
     "output_type": "display_data"
    }
   ],
   "source": [
    "import matplotlib.pyplot as plt\n",
    "\n",
    "fig = plt.figure(figsize = (15,12))\n",
    "ax = fig.gca()\n",
    "df.select_dtypes(include=np.number).hist(ax =ax)\n",
    "plt.show()"
   ]
  },
  {
   "cell_type": "markdown",
   "metadata": {
    "id": "uF3a8F8gtAU7"
   },
   "source": [
    "From the histogram plot, we can see the distribution of each feature. The histogram of the _absences_ feature indicates that most students are absent for 20 days or below. Similarly, the distribution is also skewed for _failures_. In this dataset, \n",
    "\n",
    "*failures - number of past class failures (numeric: n if 1 <=n <3, else 4)*\n",
    "\n",
    "Hence, the skewed distribution says that the students with 0 past class failures are the highest in number.\n",
    "\n",
    "Similarly, we can conclude the location of mean and data distribution for each feature through a histogram.\n"
   ]
  },
  {
   "cell_type": "markdown",
   "metadata": {
    "id": "hvV6fDQljhiS"
   },
   "source": [
    "### Plot correlation matrix for numerical features\n",
    "\n",
    "A correlation matrix is used to examine the relationship between multiple variables at the same time. When we do this calculation we get a table containing the correlation coefficients between each variable and the others. Now, the coefficient shows us both the strength of the relationship and its direction (positive or negative correlations)\n",
    "\n",
    "This information helps us to get insights on the relations among the features in the dataset and helps in feature engineering.\n"
   ]
  },
  {
   "cell_type": "code",
   "execution_count": 7,
   "metadata": {
    "colab": {
     "base_uri": "https://localhost:8080/",
     "height": 545
    },
    "executionInfo": {
     "elapsed": 6292,
     "status": "ok",
     "timestamp": 1620023186077,
     "user": {
      "displayName": "Jasmin Karki",
      "photoUrl": "https://lh3.googleusercontent.com/a-/AOh14Ghg3nFw3n9oncuMCv-Ekq2P2jY9FtYee9B2a_5I=s64",
      "userId": "13981372361842258837"
     },
     "user_tz": -345
    },
    "id": "j7tJ2g_MXl4Q",
    "outputId": "058a5b1d-4868-4949-cba1-614505b44703"
   },
   "outputs": [
    {
     "data": {
      "text/plain": [
       "<matplotlib.axes._subplots.AxesSubplot at 0x7f08a57d0d10>"
      ]
     },
     "execution_count": 7,
     "metadata": {
      "tags": []
     },
     "output_type": "execute_result"
    },
    {
     "data": {
      "image/png": "[encoded data removed]",
      "text/plain": [
       "<Figure size 720x576 with 2 Axes>"
      ]
     },
     "metadata": {
      "needs_background": "light",
      "tags": []
     },
     "output_type": "display_data"
    }
   ],
   "source": [
    "mpl.rcParams['figure.figsize'] = 10, 8\n",
    "import seaborn as sns\n",
    "sns.heatmap(df.select_dtypes(include=np.number).corr(), \n",
    "            vmin=-1, vmax=1, center=0, cmap=sns.diverging_palette(220, 20, n=200))"
   ]
  },
  {
   "cell_type": "markdown",
   "metadata": {
    "id": "FqyZSw7MvgHs"
   },
   "source": [
    "From the above plot, we can see that the features G1,G2 and G3 are positively correlated.\n",
    "\n",
    "We can also see some positive correlation between Medu and Fedu as well as between Dalc and Walc.\n",
    "\n",
    "\n"
   ]
  },
  {
   "cell_type": "markdown",
   "metadata": {
    "id": "Sq_QIYQ-j84y"
   },
   "source": [
    "### Bar plot of categorical variables\n",
    "\n",
    "A bar graph is a chart that graphically represents the comparison between the categories of data. It displays grouped data by way of parallel rectangular bars of equal width but varying the length.\n"
   ]
  },
  {
   "cell_type": "code",
   "execution_count": 8,
   "metadata": {
    "colab": {
     "base_uri": "https://localhost:8080/",
     "height": 1000
    },
    "executionInfo": {
     "elapsed": 8663,
     "status": "ok",
     "timestamp": 1620023188460,
     "user": {
      "displayName": "Jasmin Karki",
      "photoUrl": "https://lh3.googleusercontent.com/a-/AOh14Ghg3nFw3n9oncuMCv-Ekq2P2jY9FtYee9B2a_5I=s64",
      "userId": "13981372361842258837"
     },
     "user_tz": -345
    },
    "id": "32a6HJV4kC5s",
    "outputId": "fcbe8221-4721-41e1-c2af-a3b633d1829b"
   },
   "outputs": [
    {
     "data": {
      "image/png": "[encoded data removed]",
      "text/plain": [
       "<Figure size 216x288 with 1 Axes>"
      ]
     },
     "metadata": {
      "needs_background": "light",
      "tags": []
     },
     "output_type": "display_data"
    },
    {
     "data": {
      "image/png": "[encoded data removed]",
      "text/plain": [
       "<Figure size 720x576 with 1 Axes>"
      ]
     },
     "metadata": {
      "needs_background": "light",
      "tags": []
     },
     "output_type": "display_data"
    },
    {
     "data": {
      "image/png": "[encoded data removed]",
      "text/plain": [
       "<Figure size 720x576 with 1 Axes>"
      ]
     },
     "metadata": {
      "needs_background": "light",
      "tags": []
     },
     "output_type": "display_data"
    },
    {
     "data": {
      "image/png": "[encoded data removed]",
      "text/plain": [
       "<Figure size 720x576 with 1 Axes>"
      ]
     },
     "metadata": {
      "needs_background": "light",
      "tags": []
     },
     "output_type": "display_data"
    },
    {
     "data": {
      "image/png": "[encoded data removed]",
      "text/plain": [
       "<Figure size 720x576 with 1 Axes>"
      ]
     },
     "metadata": {
      "needs_background": "light",
      "tags": []
     },
     "output_type": "display_data"
    },
    {
     "data": {
      "image/png": "[encoded data removed]",
      "text/plain": [
       "<Figure size 720x576 with 1 Axes>"
      ]
     },
     "metadata": {
      "needs_background": "light",
      "tags": []
     },
     "output_type": "display_data"
    },
    {
     "data": {
      "image/png": "[encoded data removed]",
      "text/plain": [
       "<Figure size 720x576 with 1 Axes>"
      ]
     },
     "metadata": {
      "needs_background": "light",
      "tags": []
     },
     "output_type": "display_data"
    },
    {
     "data": {
      "image/png": "[encoded data removed]",
      "text/plain": [
       "<Figure size 720x576 with 1 Axes>"
      ]
     },
     "metadata": {
      "needs_background": "light",
      "tags": []
     },
     "output_type": "display_data"
    },
    {
     "data": {
      "image/png": "[encoded data removed]",
      "text/plain": [
       "<Figure size 720x576 with 1 Axes>"
      ]
     },
     "metadata": {
      "needs_background": "light",
      "tags": []
     },
     "output_type": "display_data"
    },
    {
     "data": {
      "image/png": "[encoded data removed]",
      "text/plain": [
       "<Figure size 720x576 with 1 Axes>"
      ]
     },
     "metadata": {
      "needs_background": "light",
      "tags": []
     },
     "output_type": "display_data"
    },
    {
     "data": {
      "image/png": "[encoded data removed]",
      "text/plain": [
       "<Figure size 720x576 with 1 Axes>"
      ]
     },
     "metadata": {
      "needs_background": "light",
      "tags": []
     },
     "output_type": "display_data"
    },
    {
     "data": {
      "image/png": "[encoded data removed]",
      "text/plain": [
       "<Figure size 720x576 with 1 Axes>"
      ]
     },
     "metadata": {
      "needs_background": "light",
      "tags": []
     },
     "output_type": "display_data"
    },
    {
     "data": {
      "image/png": "[encoded data removed]",
      "text/plain": [
       "<Figure size 720x576 with 1 Axes>"
      ]
     },
     "metadata": {
      "needs_background": "light",
      "tags": []
     },
     "output_type": "display_data"
    },
    {
     "data": {
      "image/png": "[encoded data removed]",
      "text/plain": [
       "<Figure size 720x576 with 1 Axes>"
      ]
     },
     "metadata": {
      "needs_background": "light",
      "tags": []
     },
     "output_type": "display_data"
    },
    {
     "data": {
      "image/png": "[encoded data removed]",
      "text/plain": [
       "<Figure size 720x576 with 1 Axes>"
      ]
     },
     "metadata": {
      "needs_background": "light",
      "tags": []
     },
     "output_type": "display_data"
    },
    {
     "data": {
      "image/png": "[encoded data removed]",
      "text/plain": [
       "<Figure size 720x576 with 1 Axes>"
      ]
     },
     "metadata": {
      "needs_background": "light",
      "tags": []
     },
     "output_type": "display_data"
    },
    {
     "data": {
      "image/png": "[encoded data removed]",
      "text/plain": [
       "<Figure size 720x576 with 1 Axes>"
      ]
     },
     "metadata": {
      "needs_background": "light",
      "tags": []
     },
     "output_type": "display_data"
    }
   ],
   "source": [
    "plt.figure(figsize=(3,4))\n",
    "for category in df.select_dtypes(include='O'):\n",
    "  df[category].value_counts().plot(kind='bar')\n",
    "  plt.show()"
   ]
  },
  {
   "cell_type": "markdown",
   "metadata": {
    "id": "lHimFRiG911k"
   },
   "source": [
    " Each rectangular block indicates a specific category and the length of the bars depends on the values they hold. \n"
   ]
  },
  {
   "cell_type": "markdown",
   "metadata": {
    "id": "QXvHv6I-nC7b"
   },
   "source": [
    "### Data Quality (DQ) Verification\n",
    "There are many definitions of data quality, but data is generally considered high quality if it is _fit for its intended uses in operations, decision making, and planning_. Moreover, data is deemed of high quality if it correctly represents the real-world construct to which it refers. To ensure the data quality we will look at the following aspects.\n",
    "\n",
    "- missing or outlier values\n",
    "- unusable data\n",
    "- Imbalance data\n",
    "- Data Quality (DQ) checks\n"
   ]
  },
  {
   "cell_type": "code",
   "execution_count": 9,
   "metadata": {
    "colab": {
     "base_uri": "https://localhost:8080/"
    },
    "executionInfo": {
     "elapsed": 8654,
     "status": "ok",
     "timestamp": 1620023188462,
     "user": {
      "displayName": "Jasmin Karki",
      "photoUrl": "https://lh3.googleusercontent.com/a-/AOh14Ghg3nFw3n9oncuMCv-Ekq2P2jY9FtYee9B2a_5I=s64",
      "userId": "13981372361842258837"
     },
     "user_tz": -345
    },
    "id": "tKHrr55-ncqk",
    "outputId": "18edbfa1-8fec-434e-9f7c-53145c0d8ea2"
   },
   "outputs": [
    {
     "data": {
      "text/plain": [
       "0      0.0\n",
       "1      0.0\n",
       "2      0.0\n",
       "3      0.0\n",
       "4      0.0\n",
       "      ... \n",
       "390    0.0\n",
       "391    0.0\n",
       "392    0.0\n",
       "393    0.0\n",
       "394    0.0\n",
       "Length: 395, dtype: float64"
      ]
     },
     "execution_count": 9,
     "metadata": {
      "tags": []
     },
     "output_type": "execute_result"
    }
   ],
   "source": [
    "# Percentage of missing values in each row\n",
    "df.isna().mean(axis=1)"
   ]
  },
  {
   "cell_type": "markdown",
   "metadata": {
    "id": "sl1TMyqCnizW"
   },
   "source": [
    "Hurray! we have no missing values.Now, its the time we look for outliers. Outliers are extreme values that fall a long way outside of the other observations. They can be caused by measurement or execution error. For example, in a normal distribution, outliers may be values on the tails of the distribution.\n"
   ]
  },
  {
   "cell_type": "code",
   "execution_count": 10,
   "metadata": {
    "executionInfo": {
     "elapsed": 8653,
     "status": "ok",
     "timestamp": 1620023188464,
     "user": {
      "displayName": "Jasmin Karki",
      "photoUrl": "https://lh3.googleusercontent.com/a-/AOh14Ghg3nFw3n9oncuMCv-Ekq2P2jY9FtYee9B2a_5I=s64",
      "userId": "13981372361842258837"
     },
     "user_tz": -345
    },
    "id": "6KDBOKrNoEl1"
   },
   "outputs": [],
   "source": [
    "import matplotlib as mpl\n",
    "mpl.rcParams['figure.figsize'] = 30, 10"
   ]
  },
  {
   "cell_type": "code",
   "execution_count": 11,
   "metadata": {
    "colab": {
     "base_uri": "https://localhost:8080/",
     "height": 403
    },
    "executionInfo": {
     "elapsed": 9432,
     "status": "ok",
     "timestamp": 1620023189254,
     "user": {
      "displayName": "Jasmin Karki",
      "photoUrl": "https://lh3.googleusercontent.com/a-/AOh14Ghg3nFw3n9oncuMCv-Ekq2P2jY9FtYee9B2a_5I=s64",
      "userId": "13981372361842258837"
     },
     "user_tz": -345
    },
    "id": "po6mCe-5oF0g",
    "outputId": "0eb9ec95-c82c-4e9e-afbf-3dbe168e8c5f"
   },
   "outputs": [
    {
     "data": {
      "text/plain": [
       "<matplotlib.axes._subplots.AxesSubplot at 0x7f089ca8ae50>"
      ]
     },
     "execution_count": 11,
     "metadata": {
      "tags": []
     },
     "output_type": "execute_result"
    },
    {
     "data": {
      "image/png": "[encoded data removed]",
      "text/plain": [
       "<Figure size 2160x720 with 1 Axes>"
      ]
     },
     "metadata": {
      "needs_background": "light",
      "tags": []
     },
     "output_type": "display_data"
    }
   ],
   "source": [
    "df.select_dtypes(include=np.number).boxplot()"
   ]
  },
  {
   "cell_type": "markdown",
   "metadata": {
    "id": "fKDj0grco3jB"
   },
   "source": [
    "There is presence of outliers in certain features. _absences_ feature has got the most outliers among all the features. \n",
    "\n",
    "After this, we will check if there is an imbalance in the labels.\n",
    "Sometimes in classification tasks, the labels are imbalanced. It is the situation where the distribution of examples across the known classes is biased or skewed. There is unequal distribution among the classes.\n",
    "\n",
    "Let's see whether our data, _df_ is imbalanced or not.\n"
   ]
  },
  {
   "cell_type": "code",
   "execution_count": 12,
   "metadata": {
    "colab": {
     "base_uri": "https://localhost:8080/",
     "height": 514
    },
    "executionInfo": {
     "elapsed": 9954,
     "status": "ok",
     "timestamp": 1620023189788,
     "user": {
      "displayName": "Jasmin Karki",
      "photoUrl": "https://lh3.googleusercontent.com/a-/AOh14Ghg3nFw3n9oncuMCv-Ekq2P2jY9FtYee9B2a_5I=s64",
      "userId": "13981372361842258837"
     },
     "user_tz": -345
    },
    "id": "YTTMKXQYpJew",
    "outputId": "3e531b10-f1a0-4af0-f333-c20d55a19ca3"
   },
   "outputs": [
    {
     "data": {
      "text/plain": [
       "<matplotlib.axes._subplots.AxesSubplot at 0x7f089c8976d0>"
      ]
     },
     "execution_count": 12,
     "metadata": {
      "tags": []
     },
     "output_type": "execute_result"
    },
    {
     "data": {
      "image/png": "[encoded data removed]",
      "text/plain": [
       "<Figure size 1080x576 with 1 Axes>"
      ]
     },
     "metadata": {
      "needs_background": "light",
      "tags": []
     },
     "output_type": "display_data"
    }
   ],
   "source": [
    "mpl.rcParams['figure.figsize'] = 15, 8\n",
    "sns.countplot(x = 'G3', data=df)"
   ]
  },
  {
   "cell_type": "markdown",
   "metadata": {
    "id": "fmkDwxFupU26"
   },
   "source": [
    "We are plotting the output variable, i.e, student's grade. We can see that students with some grades are very few. It doesn't mean that they can be neglected. So this data is imbalanced.\n",
    "\n",
    "There are several other data quality (DQ) checks such as  Completeness, Precision, Validity, Accuracy, Consistency, Confirmity and Integrity, etc. Detailed Explanations on each of the checks is out of the scope. \n",
    "\n",
    "\n",
    "Now, we have some understanding about the data. Let's proceed towards preparing the data for the algorithm/model.\n",
    "\n"
   ]
  },
  {
   "cell_type": "markdown",
   "metadata": {
    "id": "VzL3UCp5Gv-V"
   },
   "source": [
    "## Data Preparation\n",
    "This is the third phase of where we prepare the raw data for analysis and modeling. We will clean the data, generate new attributes (also known as feature engineering), integrate data (merge and aggregate) and process data as needed for modelling.\n",
    "\n",
    "\n",
    "\n",
    "\n"
   ]
  },
  {
   "cell_type": "markdown",
   "metadata": {
    "id": "gJ6xN30XtC6X"
   },
   "source": [
    "### Clean the data\n",
    "\n",
    "- Handle Missing data\n",
    "\n",
    "  Sometimes you may find some data are missing in the dataset. We need to be equipped to handle the problem when we come across them. It is pivotal to identify and correctly handle the missing values, failing to do this, you might draw inaccurate and faulty conclusions and inferences from the data. \n",
    "\n",
    "  There are no missing values in this dataset. But it doesn't mean there won't be any missing values in other datasets too. We mostly encounter missing values. In case of missing data, we apply any one of the following techniques to get rid of it.\n",
    "\n",
    "  - Deletion\n",
    "\n",
    "  - Imputation using (Mean/Median) values.\n",
    "  \n",
    "  - Imputation using (Most frequent) or (Zero/constant) values.\n",
    "\n",
    "\n",
    "\n",
    "\n"
   ]
  },
  {
   "cell_type": "markdown",
   "metadata": {
    "id": "_prWZIbXtk0L"
   },
   "source": [
    "\n",
    "\n",
    "- Handle Outliers\n",
    " \n",
    " Several techniques can be used to remove the outliers from the data. Some are listed below:\n",
    "\n",
    "  - Drop the outlier records\n",
    "\n",
    "  - Cap your outlier records\n",
    "\n",
    "  - Assign a new value\n",
    "\n",
    "  - Try a transformation\n",
    "\n",
    "\n",
    "Out of these, we will assign value of mode to the outlier value in our *Student performance dataset.*\n",
    "\n"
   ]
  },
  {
   "cell_type": "code",
   "execution_count": 13,
   "metadata": {
    "executionInfo": {
     "elapsed": 9952,
     "status": "ok",
     "timestamp": 1620023189790,
     "user": {
      "displayName": "Jasmin Karki",
      "photoUrl": "https://lh3.googleusercontent.com/a-/AOh14Ghg3nFw3n9oncuMCv-Ekq2P2jY9FtYee9B2a_5I=s64",
      "userId": "13981372361842258837"
     },
     "user_tz": -345
    },
    "id": "nWtgbqhitycV"
   },
   "outputs": [],
   "source": [
    "df['absences'] = np.where(df.absences > 15, df['absences'].mode(), df.absences)"
   ]
  },
  {
   "cell_type": "markdown",
   "metadata": {
    "id": "z1NWFdktt3vv"
   },
   "source": [
    "Other techniques that involve in data cleaning are\n",
    "\n",
    "- Clean Irrelevant data\n",
    "- Clean Duplicates\n",
    "- Clean Syntax errors fix the typos.\n",
    "\n"
   ]
  },
  {
   "cell_type": "markdown",
   "metadata": {
    "id": "ohGKGt3SuLur"
   },
   "source": [
    "### Encode the data\n",
    "\n",
    "Sometimes our data is in qualitative form, that is we have texts as our data. We can find categories in text form. Now it gets complicated for machines to understand texts and process them, rather than numbers since the models are based on mathematical equations and calculations. Therefore, we have to encode the categorical data.\n",
    "\n",
    "As we saw earlier there are 17 categorical features that we will convert to numerical features from one of the data encoding techniques.\n",
    "\n",
    "\n",
    "\n"
   ]
  },
  {
   "cell_type": "markdown",
   "metadata": {
    "id": "WRuH1J6MuiWZ"
   },
   "source": [
    "There are many ways to encode categorical variables for modeling, although the two most common are as follows:\n",
    "\n",
    "\n",
    "\n",
    "**Label Encoding** assigns a value from 1 through N for each categories for the feature, here we are assuming there are N categories. For eg:  Medu - mother's education (numeric: 0 - none, 1 - primary education (4th grade), 2 - 5th to 9th grade, 3 - secondary education or 4 - higher education) has already been encoded numerically.\n",
    "\n",
    "Label Encoder assumes that there is some order in the data, i.e value 2 is greater than value 1, which is good if the data is oridnal but it is not suitable for nominal data types without any inherent order, such as mother's job (nominal: 'teacher', 'health' care related, civil 'services' (e.g. administrative or police), 'at_home' or 'other'), in such cases we need to perform some other encoding method, such as one-hot Encoding\n",
    "\n",
    "**One-hot Encoding** maps each category to a vector that contains 1 and 0 denoting the presence or absence of the feature. Hence, this method will create multiple columns based on the cardinality of the features, i.e number of categories in the feature. For: eg: Mjob - mother's job (nominal: 'teacher', 'health' care related, civil 'services' (e.g. administrative or police), 'at_home' or 'other') has 4 different categories, hence 4 columns will be created.\n",
    "\n",
    "\n",
    "\n",
    "\n",
    "Here, we will use both Label Encoding and One hor encoding. For this, we will import the `LabelEncoder` class  from the `sklearn.preprocessing` library, and `get_dummies()`class from pandas.\n",
    "\n"
   ]
  },
  {
   "cell_type": "code",
   "execution_count": 14,
   "metadata": {
    "executionInfo": {
     "elapsed": 9951,
     "status": "ok",
     "timestamp": 1620023189792,
     "user": {
      "displayName": "Jasmin Karki",
      "photoUrl": "https://lh3.googleusercontent.com/a-/AOh14Ghg3nFw3n9oncuMCv-Ekq2P2jY9FtYee9B2a_5I=s64",
      "userId": "13981372361842258837"
     },
     "user_tz": -345
    },
    "id": "AZ0OoVrWu1kK"
   },
   "outputs": [],
   "source": [
    "from sklearn.preprocessing import LabelEncoder\n",
    "\n",
    "numeric = ['age', 'traveltime', 'Medu','Fedu', 'studytime', 'failures', 'famrel', \n",
    "               'freetime', 'goout', 'Dalc', 'Walc', 'health' , 'absences', 'G1', 'G2']\n",
    "cat_nominal = ['Mjob', 'Fjob', 'reason', 'guardian']\n",
    "cat_binary = ['school', 'sex', 'address', 'famsize', 'Pstatus', 'schoolsup', \n",
    "                  'famsup', 'paid', 'activities', 'nursery', 'higher', 'internet', 'romantic']\n",
    "\n",
    "df[cat_binary] = df[cat_binary].apply(LabelEncoder().fit_transform)  ## label_encoding\n",
    "\n",
    "df = pd.get_dummies(df, columns=cat_nominal, prefix=cat_nominal) ## One hot encoding"
   ]
  },
  {
   "cell_type": "code",
   "execution_count": 15,
   "metadata": {
    "colab": {
     "base_uri": "https://localhost:8080/",
     "height": 217
    },
    "executionInfo": {
     "elapsed": 9942,
     "status": "ok",
     "timestamp": 1620023189793,
     "user": {
      "displayName": "Jasmin Karki",
      "photoUrl": "https://lh3.googleusercontent.com/a-/AOh14Ghg3nFw3n9oncuMCv-Ekq2P2jY9FtYee9B2a_5I=s64",
      "userId": "13981372361842258837"
     },
     "user_tz": -345
    },
    "id": "9VkdKT-12bJW",
    "outputId": "28c1f3f3-020a-46e5-f0b0-b59993e7850d"
   },
   "outputs": [
    {
     "data": {
      "text/html": [
       "<div>\n",
       "<style scoped>\n",
       "    .dataframe tbody tr th:only-of-type {\n",
       "        vertical-align: middle;\n",
       "    }\n",
       "\n",
       "    .dataframe tbody tr th {\n",
       "        vertical-align: top;\n",
       "    }\n",
       "\n",
       "    .dataframe thead th {\n",
       "        text-align: right;\n",
       "    }\n",
       "</style>\n",
       "<table border=\"1\" class=\"dataframe\">\n",
       "  <thead>\n",
       "    <tr style=\"text-align: right;\">\n",
       "      <th></th>\n",
       "      <th>school</th>\n",
       "      <th>sex</th>\n",
       "      <th>age</th>\n",
       "      <th>address</th>\n",
       "      <th>famsize</th>\n",
       "      <th>Pstatus</th>\n",
       "      <th>Medu</th>\n",
       "      <th>Fedu</th>\n",
       "      <th>traveltime</th>\n",
       "      <th>studytime</th>\n",
       "      <th>failures</th>\n",
       "      <th>schoolsup</th>\n",
       "      <th>famsup</th>\n",
       "      <th>paid</th>\n",
       "      <th>activities</th>\n",
       "      <th>nursery</th>\n",
       "      <th>higher</th>\n",
       "      <th>internet</th>\n",
       "      <th>romantic</th>\n",
       "      <th>famrel</th>\n",
       "      <th>freetime</th>\n",
       "      <th>goout</th>\n",
       "      <th>Dalc</th>\n",
       "      <th>Walc</th>\n",
       "      <th>health</th>\n",
       "      <th>absences</th>\n",
       "      <th>G1</th>\n",
       "      <th>G2</th>\n",
       "      <th>G3</th>\n",
       "      <th>Mjob_at_home</th>\n",
       "      <th>Mjob_health</th>\n",
       "      <th>Mjob_other</th>\n",
       "      <th>Mjob_services</th>\n",
       "      <th>Mjob_teacher</th>\n",
       "      <th>Fjob_at_home</th>\n",
       "      <th>Fjob_health</th>\n",
       "      <th>Fjob_other</th>\n",
       "      <th>Fjob_services</th>\n",
       "      <th>Fjob_teacher</th>\n",
       "      <th>reason_course</th>\n",
       "      <th>reason_home</th>\n",
       "      <th>reason_other</th>\n",
       "      <th>reason_reputation</th>\n",
       "      <th>guardian_father</th>\n",
       "      <th>guardian_mother</th>\n",
       "      <th>guardian_other</th>\n",
       "    </tr>\n",
       "  </thead>\n",
       "  <tbody>\n",
       "    <tr>\n",
       "      <th>0</th>\n",
       "      <td>0</td>\n",
       "      <td>0</td>\n",
       "      <td>18</td>\n",
       "      <td>1</td>\n",
       "      <td>0</td>\n",
       "      <td>0</td>\n",
       "      <td>4</td>\n",
       "      <td>4</td>\n",
       "      <td>2</td>\n",
       "      <td>2</td>\n",
       "      <td>0</td>\n",
       "      <td>1</td>\n",
       "      <td>0</td>\n",
       "      <td>0</td>\n",
       "      <td>0</td>\n",
       "      <td>1</td>\n",
       "      <td>1</td>\n",
       "      <td>0</td>\n",
       "      <td>0</td>\n",
       "      <td>4</td>\n",
       "      <td>3</td>\n",
       "      <td>4</td>\n",
       "      <td>1</td>\n",
       "      <td>1</td>\n",
       "      <td>3</td>\n",
       "      <td>6</td>\n",
       "      <td>5</td>\n",
       "      <td>6</td>\n",
       "      <td>6</td>\n",
       "      <td>1</td>\n",
       "      <td>0</td>\n",
       "      <td>0</td>\n",
       "      <td>0</td>\n",
       "      <td>0</td>\n",
       "      <td>0</td>\n",
       "      <td>0</td>\n",
       "      <td>0</td>\n",
       "      <td>0</td>\n",
       "      <td>1</td>\n",
       "      <td>1</td>\n",
       "      <td>0</td>\n",
       "      <td>0</td>\n",
       "      <td>0</td>\n",
       "      <td>0</td>\n",
       "      <td>1</td>\n",
       "      <td>0</td>\n",
       "    </tr>\n",
       "    <tr>\n",
       "      <th>1</th>\n",
       "      <td>0</td>\n",
       "      <td>0</td>\n",
       "      <td>17</td>\n",
       "      <td>1</td>\n",
       "      <td>0</td>\n",
       "      <td>1</td>\n",
       "      <td>1</td>\n",
       "      <td>1</td>\n",
       "      <td>1</td>\n",
       "      <td>2</td>\n",
       "      <td>0</td>\n",
       "      <td>0</td>\n",
       "      <td>1</td>\n",
       "      <td>0</td>\n",
       "      <td>0</td>\n",
       "      <td>0</td>\n",
       "      <td>1</td>\n",
       "      <td>1</td>\n",
       "      <td>0</td>\n",
       "      <td>5</td>\n",
       "      <td>3</td>\n",
       "      <td>3</td>\n",
       "      <td>1</td>\n",
       "      <td>1</td>\n",
       "      <td>3</td>\n",
       "      <td>4</td>\n",
       "      <td>5</td>\n",
       "      <td>5</td>\n",
       "      <td>6</td>\n",
       "      <td>1</td>\n",
       "      <td>0</td>\n",
       "      <td>0</td>\n",
       "      <td>0</td>\n",
       "      <td>0</td>\n",
       "      <td>0</td>\n",
       "      <td>0</td>\n",
       "      <td>1</td>\n",
       "      <td>0</td>\n",
       "      <td>0</td>\n",
       "      <td>1</td>\n",
       "      <td>0</td>\n",
       "      <td>0</td>\n",
       "      <td>0</td>\n",
       "      <td>1</td>\n",
       "      <td>0</td>\n",
       "      <td>0</td>\n",
       "    </tr>\n",
       "    <tr>\n",
       "      <th>2</th>\n",
       "      <td>0</td>\n",
       "      <td>0</td>\n",
       "      <td>15</td>\n",
       "      <td>1</td>\n",
       "      <td>1</td>\n",
       "      <td>1</td>\n",
       "      <td>1</td>\n",
       "      <td>1</td>\n",
       "      <td>1</td>\n",
       "      <td>2</td>\n",
       "      <td>3</td>\n",
       "      <td>1</td>\n",
       "      <td>0</td>\n",
       "      <td>1</td>\n",
       "      <td>0</td>\n",
       "      <td>1</td>\n",
       "      <td>1</td>\n",
       "      <td>1</td>\n",
       "      <td>0</td>\n",
       "      <td>4</td>\n",
       "      <td>3</td>\n",
       "      <td>2</td>\n",
       "      <td>2</td>\n",
       "      <td>3</td>\n",
       "      <td>3</td>\n",
       "      <td>10</td>\n",
       "      <td>7</td>\n",
       "      <td>8</td>\n",
       "      <td>10</td>\n",
       "      <td>1</td>\n",
       "      <td>0</td>\n",
       "      <td>0</td>\n",
       "      <td>0</td>\n",
       "      <td>0</td>\n",
       "      <td>0</td>\n",
       "      <td>0</td>\n",
       "      <td>1</td>\n",
       "      <td>0</td>\n",
       "      <td>0</td>\n",
       "      <td>0</td>\n",
       "      <td>0</td>\n",
       "      <td>1</td>\n",
       "      <td>0</td>\n",
       "      <td>0</td>\n",
       "      <td>1</td>\n",
       "      <td>0</td>\n",
       "    </tr>\n",
       "    <tr>\n",
       "      <th>3</th>\n",
       "      <td>0</td>\n",
       "      <td>0</td>\n",
       "      <td>15</td>\n",
       "      <td>1</td>\n",
       "      <td>0</td>\n",
       "      <td>1</td>\n",
       "      <td>4</td>\n",
       "      <td>2</td>\n",
       "      <td>1</td>\n",
       "      <td>3</td>\n",
       "      <td>0</td>\n",
       "      <td>0</td>\n",
       "      <td>1</td>\n",
       "      <td>1</td>\n",
       "      <td>1</td>\n",
       "      <td>1</td>\n",
       "      <td>1</td>\n",
       "      <td>1</td>\n",
       "      <td>1</td>\n",
       "      <td>3</td>\n",
       "      <td>2</td>\n",
       "      <td>2</td>\n",
       "      <td>1</td>\n",
       "      <td>1</td>\n",
       "      <td>5</td>\n",
       "      <td>2</td>\n",
       "      <td>15</td>\n",
       "      <td>14</td>\n",
       "      <td>15</td>\n",
       "      <td>0</td>\n",
       "      <td>1</td>\n",
       "      <td>0</td>\n",
       "      <td>0</td>\n",
       "      <td>0</td>\n",
       "      <td>0</td>\n",
       "      <td>0</td>\n",
       "      <td>0</td>\n",
       "      <td>1</td>\n",
       "      <td>0</td>\n",
       "      <td>0</td>\n",
       "      <td>1</td>\n",
       "      <td>0</td>\n",
       "      <td>0</td>\n",
       "      <td>0</td>\n",
       "      <td>1</td>\n",
       "      <td>0</td>\n",
       "    </tr>\n",
       "    <tr>\n",
       "      <th>4</th>\n",
       "      <td>0</td>\n",
       "      <td>0</td>\n",
       "      <td>16</td>\n",
       "      <td>1</td>\n",
       "      <td>0</td>\n",
       "      <td>1</td>\n",
       "      <td>3</td>\n",
       "      <td>3</td>\n",
       "      <td>1</td>\n",
       "      <td>2</td>\n",
       "      <td>0</td>\n",
       "      <td>0</td>\n",
       "      <td>1</td>\n",
       "      <td>1</td>\n",
       "      <td>0</td>\n",
       "      <td>1</td>\n",
       "      <td>1</td>\n",
       "      <td>0</td>\n",
       "      <td>0</td>\n",
       "      <td>4</td>\n",
       "      <td>3</td>\n",
       "      <td>2</td>\n",
       "      <td>1</td>\n",
       "      <td>2</td>\n",
       "      <td>5</td>\n",
       "      <td>4</td>\n",
       "      <td>6</td>\n",
       "      <td>10</td>\n",
       "      <td>10</td>\n",
       "      <td>0</td>\n",
       "      <td>0</td>\n",
       "      <td>1</td>\n",
       "      <td>0</td>\n",
       "      <td>0</td>\n",
       "      <td>0</td>\n",
       "      <td>0</td>\n",
       "      <td>1</td>\n",
       "      <td>0</td>\n",
       "      <td>0</td>\n",
       "      <td>0</td>\n",
       "      <td>1</td>\n",
       "      <td>0</td>\n",
       "      <td>0</td>\n",
       "      <td>1</td>\n",
       "      <td>0</td>\n",
       "      <td>0</td>\n",
       "    </tr>\n",
       "  </tbody>\n",
       "</table>\n",
       "</div>"
      ],
      "text/plain": [
       "   school  sex  age  ...  guardian_father  guardian_mother  guardian_other\n",
       "0       0    0   18  ...                0                1               0\n",
       "1       0    0   17  ...                1                0               0\n",
       "2       0    0   15  ...                0                1               0\n",
       "3       0    0   15  ...                0                1               0\n",
       "4       0    0   16  ...                1                0               0\n",
       "\n",
       "[5 rows x 46 columns]"
      ]
     },
     "execution_count": 15,
     "metadata": {
      "tags": []
     },
     "output_type": "execute_result"
    }
   ],
   "source": [
    "df.head()"
   ]
  },
  {
   "cell_type": "markdown",
   "metadata": {
    "id": "PXyNhXNFCbDa"
   },
   "source": [
    "Now, we don't have nominal variables.\n"
   ]
  },
  {
   "cell_type": "markdown",
   "metadata": {
    "tags": [
     "image"
    ]
   },
   "source": [
    "### Split the dataset\n",
    "\n",
    "\n",
    "\n",
    "<center>\n",
    "\n",
    "\n",
    "\n\n<p><img src=\"data:image/png;base64,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\"  ></p>\n",
    "\n",
    "Fig: Splitting Dataset\n",
    "</center>\n",
    "\n",
    "Every dataset for the Machine Learning model must be split into two separate sets – training set and test set. \n",
    "\n",
    "The training set denotes the subset of a dataset that is used for training the machine learning model. A test set, on the other hand, is the subset of the dataset that is used for testing the machine learning model. The ML model uses the test set to predict outcomes. \n",
    "\n",
    "Usually, the dataset is split into a 70:30 ratio or 80:20 ratio. This means that you either take 70% or 80% of the data for training the model while leaving out the rest 30% or 20%. The splitting process varies according to the shape and size of the dataset.\n",
    "\n",
    "For this, we will import the `train_test_split` class from the `sklearn.model_selection` library and split the data into train and test in an 80:20 ratio\n"
   ]
  },
  {
   "cell_type": "code",
   "execution_count": 16,
   "metadata": {
    "executionInfo": {
     "elapsed": 9939,
     "status": "ok",
     "timestamp": 1620023189794,
     "user": {
      "displayName": "Jasmin Karki",
      "photoUrl": "https://lh3.googleusercontent.com/a-/AOh14Ghg3nFw3n9oncuMCv-Ekq2P2jY9FtYee9B2a_5I=s64",
      "userId": "13981372361842258837"
     },
     "user_tz": -345
    },
    "id": "ndX3d77uvED5"
   },
   "outputs": [],
   "source": [
    "from sklearn.model_selection import train_test_split\n",
    "y = df[\"G3\"]\n",
    "X = df.drop(columns=[\"G3\"])  \n",
    "X_train, X_test, y_train, y_test = train_test_split(X, y,  test_size= 0.2, random_state=0)"
   ]
  },
  {
   "cell_type": "markdown",
   "metadata": {
    "id": "0nymYxkJvrxX"
   },
   "source": [
    "We also do some feature scaling and other pre-processing depending on the type of algorithm we choose for modelling. Scaling bring all the variables in the output to the range -1 to 1, retaining their proportional range to each other.\n",
    "\n",
    "So, that’s data preparation in Machine Learning in a nutshell!\n"
   ]
  },
  {
   "cell_type": "markdown",
   "metadata": {
    "id": "51Azr6rzZ0sv"
   },
   "source": [
    "## Modeling\n",
    "This is the fourth and the juiciest part of the CRISP-DM methodology where we build the model and perform statistical analysis.\n",
    "\n",
    "In this phase we:\n",
    "\n",
    "- Select modeling technique\n",
    "\n",
    "  - Consider computer resources, computation time, number of features, business needs\n",
    "\n",
    "- Generate test design\n",
    "\n",
    "- Simulation (chronological order)\n",
    "\n",
    "- Build a model\n",
    "\n",
    "- Assess model\n",
    "\n",
    "We apply machine learning methods and build the model. These models could rely on any of the machine learning algorithms It’s likely to take into consideration the amount of data, training limitations, interpretability before selecting any of the methods.\n",
    "\n",
    "Our goal is to train the best performing model possible, using the preprocessed data.\n",
    "\n",
    "\n",
    "While building a model you iterate through different models. The constraints that you go through in this stage are:\n",
    "\n",
    "- Algorithm Selection\n",
    "\n",
    "- Feature Selection\n",
    "\n",
    "- Objective Function Selection\n",
    "\n",
    "- Explainability and Interpretability\n",
    "\n",
    "Note: We will cover ML algorithms/models in the upcoming chapters.\n",
    "\n",
    "For training a model we initially split the model into two sections which are ‘Training data’  and ‘Testing data’.\n",
    "\n",
    "You train the classifier using ‘X_train’ and then test the performance of your classifier on unseen ‘X_test’. An important point to note is that during training the classifier only the training dataset, Xtrain is available. The test data, X_test set must not be used during training the classifier. The test set will only be available during testing the classifier.\n"
   ]
  },
  {
   "cell_type": "markdown",
   "metadata": {
    "id": "9b_-lo3GajPY"
   },
   "source": [
    "## Model Evaluation\n",
    "\n",
    "This is the fifth stage where we give ourselves feedback.\n",
    "\n",
    "Model Evaluation is an integral part of the Machine Learning project. It helps to find the best model that represents our data and how well the chosen model will work in the future.\n",
    "\n",
    "\n",
    "After building and training the model, we visualize our results to learn the performance of our model. Model evaluation performance metrics teach us:\n",
    "\n",
    "- How well our model is performing?\n",
    "\n",
    "- Is our model accurate enough to put into production?\n",
    "\n",
    "- Will a larger training set improve my model’s performance?\n",
    "\n",
    "- Is my model under-fitting or over-fitting?\n",
    "\n",
    "To know answers to all these questions, we measure the newly trained model performance on a new and independent dataset.\n",
    "\n",
    "\n"
   ]
  },
  {
   "cell_type": "markdown",
   "metadata": {
    "id": "BCNAm6GFa9bU"
   },
   "source": [
    "## Model Deployment\n",
    "\n",
    "Now, this is the last and final stage of the CRISP-DM process.\n",
    "\n",
    "In this phase we:\n",
    "\n",
    "- Produce a final report/presentation to document and share model performance aligned with business objectives \n",
    "\n",
    "- Deploy the model and integrate into a system\n",
    "\n",
    "- Create a plan to monitor the impact of the model\n",
    "\n",
    "\n",
    "\n",
    "For deployment, we can package the system into a Docker container and expose a REST API.\n",
    "\n"
   ]
  },
  {
   "cell_type": "markdown",
   "metadata": {
    "id": "FBVLM_fiC7ZJ"
   },
   "source": [
    "## Putting It All Together\n",
    "\n",
    "Now that we talked about each steps of CRISP-DM, we will conclude it. This methodology suggests the  steps in performing data science activities from business need to deployment. This methodology is iterative until you get the things perfectly right.\n",
    "\n",
    "Here are the infographics which summarise each step of CRISP-DM.\n",
    "\n",
    "<figure>\n",
    "<center>\n",
    "<img src = \"https://drive.google.com/uc?id=16FpOyy55du-70PX7bYMPX4jGzj6kWtrl\" width=\"700\" height=\"560\">\n",
    "\n",
    "Fig: CRISP-DM Infographics\n",
    "</center>\n",
    "</figure>\n"
   ]
  }
 ],
 "metadata": {
  "colab": {
   "collapsed_sections": [],
   "name": "ML Workflow.ipynb",
   "provenance": [],
   "toc_visible": true
  },
  "kernelspec": {
   "display_name": "Python 3",
   "name": "python3"
  }
 },
 "nbformat": 4,
 "nbformat_minor": 0
}
