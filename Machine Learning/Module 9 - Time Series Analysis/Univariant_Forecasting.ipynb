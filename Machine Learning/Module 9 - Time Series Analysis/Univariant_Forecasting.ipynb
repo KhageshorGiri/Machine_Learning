{
 "cells": [
  {
   "cell_type": "code",
   "execution_count": 1,
   "id": "9ad54730",
   "metadata": {},
   "outputs": [],
   "source": [
    "# Importint All Libraties"
   ]
  },
  {
   "cell_type": "code",
   "execution_count": 12,
   "id": "3250e54e",
   "metadata": {},
   "outputs": [],
   "source": [
    "# Step -1 Read The dataset"
   ]
  },
  {
   "cell_type": "code",
   "execution_count": null,
   "id": "5ea74b6e",
   "metadata": {},
   "outputs": [],
   "source": []
  },
  {
   "cell_type": "code",
   "execution_count": 13,
   "id": "559557c1",
   "metadata": {},
   "outputs": [],
   "source": [
    "# Setp-2  EDA"
   ]
  },
  {
   "cell_type": "code",
   "execution_count": null,
   "id": "93e69440",
   "metadata": {},
   "outputs": [],
   "source": []
  },
  {
   "cell_type": "code",
   "execution_count": 14,
   "id": "bf998916",
   "metadata": {},
   "outputs": [],
   "source": [
    "# Step-3 Stationarity Chceck"
   ]
  },
  {
   "cell_type": "code",
   "execution_count": null,
   "id": "cb6c6ac3",
   "metadata": {},
   "outputs": [],
   "source": []
  },
  {
   "cell_type": "code",
   "execution_count": 15,
   "id": "6e21835f",
   "metadata": {},
   "outputs": [],
   "source": [
    "# Step-4 Train Test Split "
   ]
  },
  {
   "cell_type": "code",
   "execution_count": null,
   "id": "997fe388",
   "metadata": {},
   "outputs": [],
   "source": []
  },
  {
   "cell_type": "code",
   "execution_count": 6,
   "id": "61754fcf",
   "metadata": {},
   "outputs": [],
   "source": [
    "# Step-5"
   ]
  },
  {
   "cell_type": "code",
   "execution_count": null,
   "id": "2551ea3f",
   "metadata": {},
   "outputs": [],
   "source": []
  },
  {
   "cell_type": "code",
   "execution_count": 7,
   "id": "48e80b1a",
   "metadata": {},
   "outputs": [],
   "source": [
    "# Step-6"
   ]
  },
  {
   "cell_type": "code",
   "execution_count": null,
   "id": "644fe0a9",
   "metadata": {},
   "outputs": [],
   "source": []
  },
  {
   "cell_type": "code",
   "execution_count": 8,
   "id": "63b323c8",
   "metadata": {},
   "outputs": [],
   "source": [
    "# Step-7"
   ]
  },
  {
   "cell_type": "code",
   "execution_count": null,
   "id": "574ed18c",
   "metadata": {},
   "outputs": [],
   "source": []
  },
  {
   "cell_type": "code",
   "execution_count": 9,
   "id": "40333308",
   "metadata": {},
   "outputs": [],
   "source": [
    "# Step-8"
   ]
  },
  {
   "cell_type": "code",
   "execution_count": null,
   "id": "46064544",
   "metadata": {},
   "outputs": [],
   "source": []
  },
  {
   "cell_type": "code",
   "execution_count": 10,
   "id": "dfa3fbec",
   "metadata": {},
   "outputs": [],
   "source": [
    "# Step-9"
   ]
  },
  {
   "cell_type": "code",
   "execution_count": null,
   "id": "4c09b0fb",
   "metadata": {},
   "outputs": [],
   "source": []
  },
  {
   "cell_type": "code",
   "execution_count": 11,
   "id": "88d9df99",
   "metadata": {},
   "outputs": [],
   "source": [
    "# Step-10"
   ]
  },
  {
   "cell_type": "code",
   "execution_count": null,
   "id": "a81a8be8",
   "metadata": {},
   "outputs": [],
   "source": []
  },
  {
   "cell_type": "code",
   "execution_count": null,
   "id": "35b3beae",
   "metadata": {},
   "outputs": [],
   "source": []
  }
 ],
 "metadata": {
  "kernelspec": {
   "display_name": "Python 3 (ipykernel)",
   "language": "python",
   "name": "python3"
  },
  "language_info": {
   "codemirror_mode": {
    "name": "ipython",
    "version": 3
   },
   "file_extension": ".py",
   "mimetype": "text/x-python",
   "name": "python",
   "nbconvert_exporter": "python",
   "pygments_lexer": "ipython3",
   "version": "3.11.0"
  }
 },
 "nbformat": 4,
 "nbformat_minor": 5
}
