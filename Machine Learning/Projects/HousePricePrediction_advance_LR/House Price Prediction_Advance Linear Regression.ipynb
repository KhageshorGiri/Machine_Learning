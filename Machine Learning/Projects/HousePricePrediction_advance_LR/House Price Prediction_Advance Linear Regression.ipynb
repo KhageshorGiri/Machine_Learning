{
 "cells": [
  {
   "cell_type": "markdown",
   "id": "68a9e142",
   "metadata": {},
   "source": [
    "# Introudction\n",
    "\n",
    "In this notebook we are going to predict the house price for given dataset."
   ]
  },
  {
   "cell_type": "markdown",
   "id": "2493a989",
   "metadata": {},
   "source": [
    "# Overview\n",
    "\n",
    "This is prediction problem. So we are using regression algorithms to predict our target variable.\n",
    "\n",
    "In this notebook we are going through given steps\n",
    "\n",
    "1. Problem Formulation\n",
    "2. Data Collection\n",
    "3. Data Preprocessing\n",
    "4. Feature Engineering\n",
    "5. Model Building and tuining\n",
    "6. Conclusion"
   ]
  },
  {
   "cell_type": "markdown",
   "id": "e1f1fbea",
   "metadata": {},
   "source": [
    "## 1. Problem Formulation\n",
    "\n",
    "We have to predict house price by building a regression model for given dataset.\n",
    "This is a perfect project for data science students who have completed an online course in machine learning and are looking to expand their skill set before trying a featured competition."
   ]
  },
  {
   "cell_type": "code",
   "execution_count": null,
   "id": "62763371",
   "metadata": {},
   "outputs": [],
   "source": [
    "## 2. Data "
   ]
  }
 ],
 "metadata": {
  "kernelspec": {
   "display_name": "Python 3 (ipykernel)",
   "language": "python",
   "name": "python3"
  },
  "language_info": {
   "codemirror_mode": {
    "name": "ipython",
    "version": 3
   },
   "file_extension": ".py",
   "mimetype": "text/x-python",
   "name": "python",
   "nbconvert_exporter": "python",
   "pygments_lexer": "ipython3",
   "version": "3.11.0"
  }
 },
 "nbformat": 4,
 "nbformat_minor": 5
}
