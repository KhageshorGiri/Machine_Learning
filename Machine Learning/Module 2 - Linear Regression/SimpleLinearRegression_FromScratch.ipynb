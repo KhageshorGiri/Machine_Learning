{
 "cells": [
  {
   "cell_type": "code",
   "execution_count": 1,
   "id": "857b8e10",
   "metadata": {},
   "outputs": [],
   "source": [
    "# Refrence : https://machinelearningmastery.com/implement-simple-linear-regression-scratch-python/"
   ]
  },
  {
   "cell_type": "code",
   "execution_count": 2,
   "id": "541fbd90",
   "metadata": {},
   "outputs": [],
   "source": [
    "# importing required library\n",
    "import matplotlib.pyplot as plt\n",
    "import pandas as pd\n",
    "import numpy as np\n",
    "import math"
   ]
  },
  {
   "cell_type": "code",
   "execution_count": 3,
   "id": "f2cfa40d",
   "metadata": {},
   "outputs": [
    {
     "name": "stdout",
     "output_type": "stream",
     "text": [
      "x stats: mean=3.000 variance=10.000\n",
      "y stats: mean=2.800 variance=8.800\n"
     ]
    }
   ],
   "source": [
    "# Calculate the mean value of the list of numbers\n",
    "def mean(values):\n",
    "    return sum(values) / float(len(values))\n",
    "\n",
    "# Calculate the variance of a list of numbers\n",
    "def variance(values, mean):\n",
    "    return sum([(x-mean)**2 for x in values])\n",
    "\n",
    "# calculate mean and variance\n",
    "data = [[1, 1], [2, 3], [4, 3], [3, 2], [5, 5]]\n",
    "\n",
    "X = [row[0] for row in data]\n",
    "y = [row[1] for row in data]\n",
    "\n",
    "mean_x, mean_y = mean(X), mean(y)\n",
    "var_x, var_y = variance(X, mean_x), variance(y, mean_y)\n",
    "\n",
    "print('x stats: mean=%.3f variance=%.3f' % (mean_x, var_x))\n",
    "print('y stats: mean=%.3f variance=%.3f' % (mean_y, var_y))"
   ]
  },
  {
   "cell_type": "code",
   "execution_count": 4,
   "id": "e16039bd",
   "metadata": {},
   "outputs": [],
   "source": [
    "# Calculate covariance between x and y\n",
    "def covariance(x, mean_x, y, mean_y):\n",
    "    covar = 0.0\n",
    "    for i in range(len(x)):\n",
    "        covar += (x[i] - mean_x) * (y[i] - mean_y)\n",
    "    return covar"
   ]
  },
  {
   "cell_type": "code",
   "execution_count": 5,
   "id": "cb2cf795",
   "metadata": {},
   "outputs": [
    {
     "name": "stdout",
     "output_type": "stream",
     "text": [
      "Covariance: 8.000\n"
     ]
    }
   ],
   "source": [
    "\n",
    "covar = covariance(X, mean_x, y, mean_y)\n",
    "print('Covariance: %.3f' % (covar))"
   ]
  },
  {
   "cell_type": "code",
   "execution_count": 6,
   "id": "5bb7ff7f",
   "metadata": {},
   "outputs": [
    {
     "name": "stdout",
     "output_type": "stream",
     "text": [
      "Coefficients: B0=0.400, B1=0.800\n"
     ]
    }
   ],
   "source": [
    " \n",
    "# Calculate coefficients\n",
    "def coefficients(dataset):\n",
    "    x = [row[0] for row in dataset]\n",
    "    y = [row[1] for row in dataset]\n",
    "    x_mean, y_mean = mean(x), mean(y)\n",
    "    b1 = covariance(x, x_mean, y, y_mean) / variance(x, x_mean)\n",
    "    b0 = y_mean - b1 * x_mean\n",
    "    return [b0, b1]\n",
    " \n",
    "# calculate coefficients\n",
    "dataset = [[1, 1], [2, 3], [4, 3], [3, 2], [5, 5]]\n",
    "b0, b1 = coefficients(dataset)\n",
    "print('Coefficients: B0=%.3f, B1=%.3f' % (b0, b1))"
   ]
  },
  {
   "cell_type": "code",
   "execution_count": 7,
   "id": "b223d5b1",
   "metadata": {},
   "outputs": [],
   "source": [
    "# Make prediction\n",
    "def simple_linear_regression(train, test):\n",
    "    predictions = list()\n",
    "    b0, b1 = coefficients(train)\n",
    "    for row in test:\n",
    "        y_hat = b0 + b1 * row[0]\n",
    "        predictions.append(y_hat)\n",
    "    return predictions"
   ]
  },
  {
   "cell_type": "code",
   "execution_count": 8,
   "id": "e7f2b8c4",
   "metadata": {},
   "outputs": [],
   "source": [
    "# Calculate root mean squared error\n",
    "def rmse_metric(actual, predicted):\n",
    "    sum_error = 0.0\n",
    "    for i in range(len(actual)):\n",
    "        prediction_error = predicted[i] - actual[i]\n",
    "        sum_error += pow(prediction_error, 2)\n",
    "        mean_error = sum_error / float(len(actual))\n",
    "    return np.sqrt(mean_error)"
   ]
  },
  {
   "cell_type": "code",
   "execution_count": 9,
   "id": "bc9f4e8e",
   "metadata": {},
   "outputs": [],
   "source": [
    "# Evaluate regression algorithm on training dataset\n",
    "def evaluate_algorithm(dataset, algorithm):\n",
    "\ttest_set = list()\n",
    "\tfor row in dataset:\n",
    "\t\trow_copy = list(row)\n",
    "\t\trow_copy[-1] = None\n",
    "\t\ttest_set.append(row_copy)\n",
    "\tpredicted = algorithm(dataset, test_set)\n",
    "\tprint(predicted)\n",
    "\tactual = [row[-1] for row in dataset]\n",
    "\trmse = rmse_metric(actual, predicted)\n",
    "\treturn rmse"
   ]
  },
  {
   "cell_type": "code",
   "execution_count": 10,
   "id": "3fca0aeb",
   "metadata": {},
   "outputs": [
    {
     "name": "stdout",
     "output_type": "stream",
     "text": [
      "[1.1999999999999995, 1.9999999999999996, 3.5999999999999996, 2.8, 4.3999999999999995]\n",
      "RMSE: 0.693\n"
     ]
    }
   ],
   "source": [
    "# Test simple linear regression\n",
    "rmse = evaluate_algorithm(data, simple_linear_regression)\n",
    "print('RMSE: %.3f' % (rmse))"
   ]
  },
  {
   "cell_type": "code",
   "execution_count": 34,
   "id": "26f9640b",
   "metadata": {},
   "outputs": [],
   "source": [
    "class SimpleLinearRegression:\n",
    "    def __init__(self):\n",
    "        self.b0 = None\n",
    "        self.b1 = None\n",
    "    \n",
    "    #Calculating the mean of data\n",
    "    def mean(self, data):\n",
    "        return sum(data)/float(len(data))\n",
    "    \n",
    "    # Calculating the variance of data\n",
    "    def variance(self, data, mean):\n",
    "        return sum([(x-mean)**2 for x in data])\n",
    "    \n",
    "    # Calculating co-variance of data\n",
    "    def covariance(self, x, x_mean, y, y_mean):\n",
    "        cov = 0\n",
    "        for i in range(len(x)):\n",
    "            cov += (x[i] - x_mean) * (y[i] - y_mean)\n",
    "        return cov\n",
    "    \n",
    "    def _intercepts(self):\n",
    "        return self.b0\n",
    "    \n",
    "    def _coefficeint(self):\n",
    "        return self.b1\n",
    "    \n",
    "    def fit(self, dataset):\n",
    "        X = [row[0] for row in dataset]\n",
    "        y = [row[1] for row in dataset]\n",
    "        x_mean, y_mean = self.mean(X), self.mean(y)\n",
    "        self.b1 = self.covariance(X, x_mean, y, y_mean) / self.variance(X, x_mean)\n",
    "        self.b0 = self.mean(y) - b1*self.mean(X)\n",
    "    \n",
    "    def predict(self, test_data):\n",
    "        predected_data = []\n",
    "        for row in test_data:\n",
    "            predected_value = self.b0 + self.b1*row[0]\n",
    "            predected_data.append(predected_value)\n",
    "        return predected_data"
   ]
  },
  {
   "cell_type": "code",
   "execution_count": 35,
   "id": "2c8e0cf6",
   "metadata": {},
   "outputs": [
    {
     "data": {
      "text/plain": [
       "[1.1999999999999995,\n",
       " 1.9999999999999996,\n",
       " 3.5999999999999996,\n",
       " 2.8,\n",
       " 4.3999999999999995]"
      ]
     },
     "execution_count": 35,
     "metadata": {},
     "output_type": "execute_result"
    }
   ],
   "source": [
    "# calculate mean and variance\n",
    "data = [[1, 1], [2, 3], [4, 3], [3, 2], [5, 5]]\n",
    "\n",
    "X = [row[0] for row in data]\n",
    "y = [row[1] for row in data]\n",
    "\n",
    "regression = SimpleLinearRegression()\n",
    "\n",
    "regression.fit(data)\n",
    "y_pred = regression.predict(data)\n",
    "y_pred"
   ]
  },
  {
   "cell_type": "code",
   "execution_count": 33,
   "id": "22750b2e",
   "metadata": {},
   "outputs": [
    {
     "data": {
      "text/plain": [
       "([0.39999999999999947], [0.8])"
      ]
     },
     "execution_count": 33,
     "metadata": {},
     "output_type": "execute_result"
    }
   ],
   "source": [
    "regression._intercepts(), regression._coefficeint()"
   ]
  },
  {
   "cell_type": "code",
   "execution_count": 37,
   "id": "0c2a1662",
   "metadata": {},
   "outputs": [
    {
     "data": {
      "text/html": [
       "<div>\n",
       "<style scoped>\n",
       "    .dataframe tbody tr th:only-of-type {\n",
       "        vertical-align: middle;\n",
       "    }\n",
       "\n",
       "    .dataframe tbody tr th {\n",
       "        vertical-align: top;\n",
       "    }\n",
       "\n",
       "    .dataframe thead th {\n",
       "        text-align: right;\n",
       "    }\n",
       "</style>\n",
       "<table border=\"1\" class=\"dataframe\">\n",
       "  <thead>\n",
       "    <tr style=\"text-align: right;\">\n",
       "      <th></th>\n",
       "      <th>Claims</th>\n",
       "      <th>Amount</th>\n",
       "    </tr>\n",
       "  </thead>\n",
       "  <tbody>\n",
       "    <tr>\n",
       "      <th>0</th>\n",
       "      <td>19</td>\n",
       "      <td>46.2</td>\n",
       "    </tr>\n",
       "    <tr>\n",
       "      <th>1</th>\n",
       "      <td>13</td>\n",
       "      <td>15.7</td>\n",
       "    </tr>\n",
       "    <tr>\n",
       "      <th>2</th>\n",
       "      <td>40</td>\n",
       "      <td>119.4</td>\n",
       "    </tr>\n",
       "    <tr>\n",
       "      <th>3</th>\n",
       "      <td>57</td>\n",
       "      <td>170.9</td>\n",
       "    </tr>\n",
       "    <tr>\n",
       "      <th>4</th>\n",
       "      <td>23</td>\n",
       "      <td>56.9</td>\n",
       "    </tr>\n",
       "  </tbody>\n",
       "</table>\n",
       "</div>"
      ],
      "text/plain": [
       "   Claims  Amount\n",
       "0      19    46.2\n",
       "1      13    15.7\n",
       "2      40   119.4\n",
       "3      57   170.9\n",
       "4      23    56.9"
      ]
     },
     "execution_count": 37,
     "metadata": {},
     "output_type": "execute_result"
    }
   ],
   "source": [
    "dataset = pd.read_csv(\"insurance.csv\")\n",
    "dataset.head()"
   ]
  },
  {
   "cell_type": "code",
   "execution_count": null,
   "id": "ba2e5e4f",
   "metadata": {},
   "outputs": [],
   "source": []
  }
 ],
 "metadata": {
  "kernelspec": {
   "display_name": "Python 3 (ipykernel)",
   "language": "python",
   "name": "python3"
  },
  "language_info": {
   "codemirror_mode": {
    "name": "ipython",
    "version": 3
   },
   "file_extension": ".py",
   "mimetype": "text/x-python",
   "name": "python",
   "nbconvert_exporter": "python",
   "pygments_lexer": "ipython3",
   "version": "3.11.0"
  }
 },
 "nbformat": 4,
 "nbformat_minor": 5
}
