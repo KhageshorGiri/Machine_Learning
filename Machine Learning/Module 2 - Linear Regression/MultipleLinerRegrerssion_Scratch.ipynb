{
 "cells": [
  {
   "cell_type": "code",
   "execution_count": 302,
   "id": "99fefd54",
   "metadata": {},
   "outputs": [],
   "source": [
    "# Loading necessary packages\n",
    "import numpy as np\n",
    "import pandas as pd\n"
   ]
  },
  {
   "cell_type": "code",
   "execution_count": 303,
   "id": "f46cfb83",
   "metadata": {},
   "outputs": [
    {
     "data": {
      "text/html": [
       "<div>\n",
       "<style scoped>\n",
       "    .dataframe tbody tr th:only-of-type {\n",
       "        vertical-align: middle;\n",
       "    }\n",
       "\n",
       "    .dataframe tbody tr th {\n",
       "        vertical-align: top;\n",
       "    }\n",
       "\n",
       "    .dataframe thead th {\n",
       "        text-align: right;\n",
       "    }\n",
       "</style>\n",
       "<table border=\"1\" class=\"dataframe\">\n",
       "  <thead>\n",
       "    <tr style=\"text-align: right;\">\n",
       "      <th></th>\n",
       "      <th>TV</th>\n",
       "      <th>radio</th>\n",
       "      <th>newspaper</th>\n",
       "      <th>sales</th>\n",
       "    </tr>\n",
       "  </thead>\n",
       "  <tbody>\n",
       "    <tr>\n",
       "      <th>0</th>\n",
       "      <td>230.1</td>\n",
       "      <td>37.8</td>\n",
       "      <td>69.2</td>\n",
       "      <td>22.1</td>\n",
       "    </tr>\n",
       "    <tr>\n",
       "      <th>1</th>\n",
       "      <td>44.5</td>\n",
       "      <td>39.3</td>\n",
       "      <td>45.1</td>\n",
       "      <td>10.4</td>\n",
       "    </tr>\n",
       "    <tr>\n",
       "      <th>2</th>\n",
       "      <td>17.2</td>\n",
       "      <td>45.9</td>\n",
       "      <td>69.3</td>\n",
       "      <td>9.3</td>\n",
       "    </tr>\n",
       "    <tr>\n",
       "      <th>3</th>\n",
       "      <td>151.5</td>\n",
       "      <td>41.3</td>\n",
       "      <td>58.5</td>\n",
       "      <td>18.5</td>\n",
       "    </tr>\n",
       "    <tr>\n",
       "      <th>4</th>\n",
       "      <td>180.8</td>\n",
       "      <td>10.8</td>\n",
       "      <td>58.4</td>\n",
       "      <td>12.9</td>\n",
       "    </tr>\n",
       "  </tbody>\n",
       "</table>\n",
       "</div>"
      ],
      "text/plain": [
       "      TV  radio  newspaper  sales\n",
       "0  230.1   37.8       69.2   22.1\n",
       "1   44.5   39.3       45.1   10.4\n",
       "2   17.2   45.9       69.3    9.3\n",
       "3  151.5   41.3       58.5   18.5\n",
       "4  180.8   10.8       58.4   12.9"
      ]
     },
     "execution_count": 303,
     "metadata": {},
     "output_type": "execute_result"
    }
   ],
   "source": [
    "# loading the dataset\n",
    "data = pd.read_csv(\"Advertising.csv\")\n",
    "data.head()"
   ]
  },
  {
   "cell_type": "markdown",
   "id": "3ebf71c5",
   "metadata": {},
   "source": [
    "## Making our own Linear Regression Class"
   ]
  },
  {
   "cell_type": "code",
   "execution_count": 304,
   "id": "e49fead2",
   "metadata": {},
   "outputs": [],
   "source": [
    "class MultipleLinearRegression:\n",
    "    def __init__(self):\n",
    "        self.bias = None\n",
    "        self.weignts = None\n",
    "    \n",
    "    def fit(self, x_train, y_train, epochs, learning_rate):\n",
    "        n_samples, n_features = x_train.shape\n",
    "\n",
    "        # init parameters\n",
    "        self.weights = np.zeros(n_features)\n",
    "        self.bias = 0\n",
    "        #Implementting Gradient Descent\n",
    "        for i in range(epochs):\n",
    "            y_predicted = np.dot(x_train, self.weights) + self.bias\n",
    "            \n",
    "            #Calculating derivative for m and b\n",
    "            dm = (-2/n_samples) * np.dot(x_train.T , (y_train - y_predicted))\n",
    "            db = (-1/n_samples) * np.sum(y_train - y_predicted)\n",
    "        \n",
    "        \t#Updating parameters\n",
    "            self.bias = self.bias - learning_rate * db\n",
    "            self.weights = self.weights - learning_rate * dm\n",
    "            \n",
    "            #print(self.weights , self.bias)\n",
    "    \n",
    "    def predict(self,x_test):\n",
    "        y_pred = np.dot(x_test, self.weights) + self.bias\n",
    "        return y_pred\n",
    "    "
   ]
  },
  {
   "cell_type": "code",
   "execution_count": 305,
   "id": "dbac5300",
   "metadata": {},
   "outputs": [],
   "source": [
    "# build a model\n",
    "model = MultipleLinearRegression()"
   ]
  },
  {
   "cell_type": "code",
   "execution_count": 306,
   "id": "9b3202ed",
   "metadata": {},
   "outputs": [
    {
     "data": {
      "text/plain": [
       "<__main__.MultipleLinearRegression at 0x2c1d8f27190>"
      ]
     },
     "execution_count": 306,
     "metadata": {},
     "output_type": "execute_result"
    }
   ],
   "source": [
    "model"
   ]
  },
  {
   "cell_type": "code",
   "execution_count": 307,
   "id": "b8faa8c4",
   "metadata": {},
   "outputs": [
    {
     "name": "stdout",
     "output_type": "stream",
     "text": [
      "Shape of X:  (200, 3)\n",
      "Shape of y:  (200,)\n"
     ]
    }
   ],
   "source": [
    "# spliting data into feature and target\n",
    "X = np.array(data.iloc[:, 0:-1])\n",
    "y = np.array(data.iloc[:, -1])\n",
    "print(\"Shape of X: \", X.shape)\n",
    "print(\"Shape of y: \", y.shape)"
   ]
  },
  {
   "cell_type": "code",
   "execution_count": 308,
   "id": "2a4bb33a",
   "metadata": {},
   "outputs": [],
   "source": [
    "# spliting data into training and test set\n",
    "from sklearn.linear_model import LinearRegression\n",
    "from sklearn.model_selection import train_test_split"
   ]
  },
  {
   "cell_type": "code",
   "execution_count": 309,
   "id": "3fd00d3d",
   "metadata": {},
   "outputs": [],
   "source": [
    "x_train, x_test, y_train, y_test = train_test_split(X, y, test_size=0.2, random_state=42)"
   ]
  },
  {
   "cell_type": "code",
   "execution_count": 310,
   "id": "3e6205c5",
   "metadata": {},
   "outputs": [],
   "source": [
    "# training the model\n",
    "model.fit(x_train, y_train, 30, 0.01)"
   ]
  },
  {
   "cell_type": "code",
   "execution_count": 311,
   "id": "e6d86d69",
   "metadata": {},
   "outputs": [
    {
     "data": {
      "text/plain": [
       "(160, 3)"
      ]
     },
     "execution_count": 311,
     "metadata": {},
     "output_type": "execute_result"
    }
   ],
   "source": [
    "x_train.shape"
   ]
  },
  {
   "cell_type": "code",
   "execution_count": 312,
   "id": "ee716367",
   "metadata": {},
   "outputs": [],
   "source": [
    "# predicting the result\n",
    "y_pred = model.predict(x_test)\n",
    "#y_pred"
   ]
  },
  {
   "cell_type": "code",
   "execution_count": null,
   "id": "b303cade",
   "metadata": {},
   "outputs": [],
   "source": []
  }
 ],
 "metadata": {
  "kernelspec": {
   "display_name": "Python 3 (ipykernel)",
   "language": "python",
   "name": "python3"
  },
  "language_info": {
   "codemirror_mode": {
    "name": "ipython",
    "version": 3
   },
   "file_extension": ".py",
   "mimetype": "text/x-python",
   "name": "python",
   "nbconvert_exporter": "python",
   "pygments_lexer": "ipython3",
   "version": "3.11.0"
  }
 },
 "nbformat": 4,
 "nbformat_minor": 5
}
